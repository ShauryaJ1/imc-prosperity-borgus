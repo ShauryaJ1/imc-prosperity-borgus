{
 "cells": [
  {
   "cell_type": "code",
   "execution_count": 1,
   "id": "initial_id",
   "metadata": {
    "collapsed": true
   },
   "outputs": [],
   "source": [
    "import pandas as pd"
   ]
  },
  {
   "cell_type": "code",
   "execution_count": null,
   "id": "c1ddf081",
   "metadata": {},
   "outputs": [],
   "source": [
    "df1 = pd.read_csv('round1/data/day0price.csv')"
   ]
  },
  {
   "cell_type": "code",
   "execution_count": 9,
   "id": "27ef7b6b",
   "metadata": {},
   "outputs": [
    {
     "name": "stdout",
     "output_type": "stream",
     "text": [
      "Index(['day;timestamp;product;bid_price_1;bid_volume_1;bid_price_2;bid_volume_2;bid_price_3;bid_volume_3;ask_price_1;ask_volume_1;ask_price_2;ask_volume_2;ask_price_3;ask_volume_3;mid_price;profit_and_loss'], dtype='object')\n"
     ]
    }
   ],
   "source": [
    "print(df1.columns[0])"
   ]
  },
  {
   "cell_type": "code",
   "execution_count": null,
   "id": "fe8f60e4",
   "metadata": {},
   "outputs": [],
   "source": []
  }
 ],
 "metadata": {
  "kernelspec": {
   "display_name": "Python 3 (ipykernel)",
   "language": "python",
   "name": "python3"
  }
 },
 "nbformat": 4,
 "nbformat_minor": 5
}
