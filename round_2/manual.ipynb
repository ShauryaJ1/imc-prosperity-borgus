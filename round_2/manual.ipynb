{
 "cells": [
  {
   "cell_type": "markdown",
   "metadata": {},
   "source": [
    "Profit for first box:\n",
    "\n",
    "(Multiplier * 10000)/(I + 100*P)\n",
    "\n",
    "Profit for second box:\n",
    "\n",
    "(Multiplier * 10000)/(I + 100*P) - 50,000\n",
    "\n",
    "(Multiplier- 5I)/500 > P for second box to be profitable"
   ]
  },
  {
   "cell_type": "code",
   "execution_count": 149,
   "metadata": {},
   "outputs": [],
   "source": [
    "import numpy as np\n",
    "from scipy.optimize import minimize\n",
    "import itertools\n",
    "from tqdm.auto import tqdm\n",
    "from random import randint\n",
    "import matplotlib.pyplot as plt"
   ]
  },
  {
   "cell_type": "code",
   "execution_count": null,
   "metadata": {},
   "outputs": [],
   "source": [
    "containers = np.array([(10,1),(80,6),(37,3),(17,1),(90,10),(31,2),(50,4),(20,2),(73,4),(89,8)])"
   ]
  },
  {
   "cell_type": "code",
   "execution_count": 487,
   "metadata": {},
   "outputs": [
    {
     "data": {
      "text/plain": [
       "[np.float64(10.0),\n",
       " np.float64(13.333333333333334),\n",
       " np.float64(12.333333333333334),\n",
       " np.float64(17.0),\n",
       " np.float64(9.0),\n",
       " np.float64(15.5),\n",
       " np.float64(12.5),\n",
       " np.float64(10.0),\n",
       " np.float64(18.25),\n",
       " np.float64(11.125)]"
      ]
     },
     "execution_count": 487,
     "metadata": {},
     "output_type": "execute_result"
    }
   ],
   "source": [
    "[i/j for i,j in containers]"
   ]
  },
  {
   "cell_type": "code",
   "execution_count": 4,
   "metadata": {},
   "outputs": [],
   "source": [
    "p_values = [(container[0]-5*container[1])/500 for container in containers]"
   ]
  },
  {
   "cell_type": "code",
   "execution_count": 5,
   "metadata": {},
   "outputs": [
    {
     "data": {
      "text/plain": [
       "[np.float64(0.01),\n",
       " np.float64(0.1),\n",
       " np.float64(0.044),\n",
       " np.float64(0.024),\n",
       " np.float64(0.08),\n",
       " np.float64(0.042),\n",
       " np.float64(0.06),\n",
       " np.float64(0.02),\n",
       " np.float64(0.106),\n",
       " np.float64(0.098)]"
      ]
     },
     "execution_count": 5,
     "metadata": {},
     "output_type": "execute_result"
    }
   ],
   "source": [
    "p_values"
   ]
  },
  {
   "cell_type": "code",
   "execution_count": 6,
   "metadata": {},
   "outputs": [],
   "source": [
    "# First box\n",
    "worst_case_scenarios = [(10000*container[0])/(container[1]+100) for container in containers]"
   ]
  },
  {
   "cell_type": "code",
   "execution_count": 7,
   "metadata": {},
   "outputs": [
    {
     "data": {
      "text/plain": [
       "[np.float64(990.0990099009902),\n",
       " np.float64(7547.169811320755),\n",
       " np.float64(3592.233009708738),\n",
       " np.float64(1683.1683168316831),\n",
       " np.float64(8181.818181818182),\n",
       " np.float64(3039.2156862745096),\n",
       " np.float64(4807.692307692308),\n",
       " np.float64(1960.7843137254902),\n",
       " np.float64(7019.2307692307695),\n",
       " np.float64(8240.74074074074)]"
      ]
     },
     "execution_count": 7,
     "metadata": {},
     "output_type": "execute_result"
    }
   ],
   "source": [
    "worst_case_scenarios"
   ]
  },
  {
   "cell_type": "code",
   "execution_count": 30,
   "metadata": {},
   "outputs": [],
   "source": [
    "\n",
    "def minimize_ev(multiplier_1,individuals_1, multiplier_2, individuals_2):\n",
    "    def function(x):\n",
    "        p1,p2 = x\n",
    "        return (multiplier_1 * 10000)/(individuals_1 + 100*p1) + (multiplier_2 * 10000)/(individuals_2 + 100*p2) - 50000\n",
    "\n",
    "    bounds = [(0,1),(0,1)]\n",
    "    constraints = [{\n",
    "    'type': 'ineq',\n",
    "    'fun': lambda x: 1 - x[0] - x[1]\n",
    "     }]\n",
    "    x0 = [1,1]\n",
    "    return minimize(fun=function,x0=x0,bounds=bounds,constraints=constraints)\n",
    "\n",
    "\n",
    "\n"
   ]
  },
  {
   "cell_type": "code",
   "execution_count": 31,
   "metadata": {},
   "outputs": [],
   "source": [
    "result = minimize_ev(10,1,80,6)"
   ]
  },
  {
   "cell_type": "code",
   "execution_count": 44,
   "metadata": {},
   "outputs": [],
   "source": [
    "container_combos = list(itertools.combinations(containers,2))"
   ]
  },
  {
   "cell_type": "code",
   "execution_count": 45,
   "metadata": {},
   "outputs": [
    {
     "data": {
      "text/plain": [
       "45"
      ]
     },
     "execution_count": 45,
     "metadata": {},
     "output_type": "execute_result"
    }
   ],
   "source": [
    "len(container_combos)"
   ]
  },
  {
   "cell_type": "code",
   "execution_count": 46,
   "metadata": {},
   "outputs": [],
   "source": [
    "for combo in container_combos:\n",
    "    if combo[0][0] == combo[1][0] and combo[0][1] == combo[1][1]:\n",
    "        print(combo)"
   ]
  },
  {
   "cell_type": "code",
   "execution_count": 47,
   "metadata": {},
   "outputs": [],
   "source": [
    "container_combos = [[combo[0][0],combo[0][1],combo[1][0],combo[1][1]] for combo in container_combos]"
   ]
  },
  {
   "cell_type": "code",
   "execution_count": 48,
   "metadata": {},
   "outputs": [
    {
     "data": {
      "text/plain": [
       "45"
      ]
     },
     "execution_count": 48,
     "metadata": {},
     "output_type": "execute_result"
    }
   ],
   "source": [
    "len(container_combos)"
   ]
  },
  {
   "cell_type": "code",
   "execution_count": 49,
   "metadata": {},
   "outputs": [
    {
     "name": "stderr",
     "output_type": "stream",
     "text": [
      "Progress: 100%|██████████| 45/45 [00:00<00:00, 218.12it/s]\n"
     ]
    }
   ],
   "source": [
    "minimums = []\n",
    "for combo in tqdm(container_combos,\"Progress\"):\n",
    "    result = minimize_ev(combo[0],combo[1],combo[2],combo[3])\n",
    "    minimums.append((result.fun, result.x[0], result.x[1], combo[0], combo[1], combo[2], combo[3]))\n"
   ]
  },
  {
   "cell_type": "code",
   "execution_count": 59,
   "metadata": {},
   "outputs": [
    {
     "data": {
      "text/plain": [
       "['90,10,89,8',\n",
       " '80,6,89,8',\n",
       " '80,6,90,10',\n",
       " '73,4,89,8',\n",
       " '90,10,73,4',\n",
       " '80,6,73,4',\n",
       " '50,4,89,8',\n",
       " '90,10,50,4',\n",
       " '80,6,50,4',\n",
       " '50,4,73,4']"
      ]
     },
     "execution_count": 59,
     "metadata": {},
     "output_type": "execute_result"
    }
   ],
   "source": [
    "[\",\".join([str(i) for i in e[3:]]) for e in sorted(minimums)[::-1][:10]]"
   ]
  },
  {
   "cell_type": "code",
   "execution_count": 75,
   "metadata": {},
   "outputs": [],
   "source": [
    "ratios = [container[0]/container[1] for container in containers]"
   ]
  },
  {
   "cell_type": "code",
   "execution_count": 76,
   "metadata": {},
   "outputs": [],
   "source": [
    "ratios = np.array([ratio/sum(ratios) for ratio in ratios])"
   ]
  },
  {
   "cell_type": "code",
   "execution_count": 77,
   "metadata": {},
   "outputs": [
    {
     "data": {
      "text/plain": [
       "array([0.07749435, 0.1033258 , 0.09557636, 0.13174039, 0.06974491,\n",
       "       0.12011624, 0.09686794, 0.07749435, 0.14142719, 0.08621246])"
      ]
     },
     "execution_count": 77,
     "metadata": {},
     "output_type": "execute_result"
    }
   ],
   "source": [
    "ratios"
   ]
  },
  {
   "cell_type": "code",
   "execution_count": 78,
   "metadata": {},
   "outputs": [
    {
     "data": {
      "text/plain": [
       "np.float64(0.9999999999999999)"
      ]
     },
     "execution_count": 78,
     "metadata": {},
     "output_type": "execute_result"
    }
   ],
   "source": [
    "sum(ratios)"
   ]
  },
  {
   "cell_type": "code",
   "execution_count": 66,
   "metadata": {},
   "outputs": [
    {
     "data": {
      "text/plain": [
       "[[np.int64(10), np.int64(1), np.int64(80), np.int64(6)],\n",
       " [np.int64(10), np.int64(1), np.int64(37), np.int64(3)],\n",
       " [np.int64(10), np.int64(1), np.int64(17), np.int64(1)],\n",
       " [np.int64(10), np.int64(1), np.int64(90), np.int64(10)],\n",
       " [np.int64(10), np.int64(1), np.int64(31), np.int64(2)]]"
      ]
     },
     "execution_count": 66,
     "metadata": {},
     "output_type": "execute_result"
    }
   ],
   "source": [
    "container_combos[:5]"
   ]
  },
  {
   "cell_type": "code",
   "execution_count": 71,
   "metadata": {},
   "outputs": [],
   "source": [
    "indexed_combos = list(itertools.combinations([*range(10)],2))"
   ]
  },
  {
   "cell_type": "code",
   "execution_count": 72,
   "metadata": {},
   "outputs": [
    {
     "data": {
      "text/plain": [
       "45"
      ]
     },
     "execution_count": 72,
     "metadata": {},
     "output_type": "execute_result"
    }
   ],
   "source": [
    "len(indexed_combos)"
   ]
  },
  {
   "cell_type": "code",
   "execution_count": 83,
   "metadata": {},
   "outputs": [],
   "source": [
    "indexed_combos+=[(j,i) for i,j in indexed_combos]"
   ]
  },
  {
   "cell_type": "code",
   "execution_count": 84,
   "metadata": {},
   "outputs": [
    {
     "data": {
      "text/plain": [
       "90"
      ]
     },
     "execution_count": 84,
     "metadata": {},
     "output_type": "execute_result"
    }
   ],
   "source": [
    "len(indexed_combos)"
   ]
  },
  {
   "cell_type": "code",
   "execution_count": 488,
   "metadata": {},
   "outputs": [],
   "source": [
    "def evaluate_combo(containers, combo,ratios):\n",
    "    multiplier_1 = containers[combo[0]][0]\n",
    "    individuals_1 = containers[combo[0]][1]\n",
    "    multiplier_2 = containers[combo[1]][0]\n",
    "    individuals_2 = containers[combo[1]][1]\n",
    "    p1 = ratios[combo[0]]\n",
    "    p2 = ratios[combo[1]]\n",
    "    return (10000*multiplier_1)/(individuals_1 + 100*p1) + (10000*multiplier_2)/(individuals_2 + 100*p2) - 50000\n",
    "def evaluate_combo_but_on_first(containers, combo, ratios):\n",
    "    multiplier_1 = containers[combo[0]][0]\n",
    "    individuals_1 = containers[combo[0]][1]\n",
    "    multiplier_2 = containers[combo[1]][0]\n",
    "    individuals_2 = containers[combo[1]][1]\n",
    "    p1 = ratios[combo[0]]\n",
    "    p2 = ratios[combo[1]]\n",
    "    return (10000*multiplier_1)/(individuals_1 + 100*p1)\n",
    "def maximize_with_prior(containers,ratios,power,combos,top):\n",
    "   raised_prior = ratios**power\n",
    "   values = []\n",
    "   for combo in combos:\n",
    "         value = evaluate_combo_but_on_first(containers,combo,raised_prior)\n",
    "         values.append((float(value),containers[combo[0]],containers[combo[1]],combo))\n",
    "#    print(values)\n",
    "   return sorted(values,key=lambda x: x[0],reverse=True)[:top]"
   ]
  },
  {
   "cell_type": "code",
   "execution_count": 489,
   "metadata": {},
   "outputs": [
    {
     "data": {
      "text/plain": [
       "[(53545.92431424354, array([89,  8]), array([10,  1]), (9, 0)),\n",
       " (53545.92431424354, array([89,  8]), array([80,  6]), (9, 1)),\n",
       " (53545.92431424354, array([89,  8]), array([37,  3]), (9, 2)),\n",
       " (53545.92431424354, array([89,  8]), array([17,  1]), (9, 3)),\n",
       " (53545.92431424354, array([89,  8]), array([90, 10]), (9, 4)),\n",
       " (53545.92431424354, array([89,  8]), array([31,  2]), (9, 5)),\n",
       " (53545.92431424354, array([89,  8]), array([50,  4]), (9, 6)),\n",
       " (53545.92431424354, array([89,  8]), array([20,  2]), (9, 7)),\n",
       " (53545.92431424354, array([89,  8]), array([73,  4]), (9, 8)),\n",
       " (53020.73425908313, array([90, 10]), array([31,  2]), (4, 5))]"
      ]
     },
     "execution_count": 489,
     "metadata": {},
     "output_type": "execute_result"
    }
   ],
   "source": [
    "maximize_with_prior(containers,ratios,1,indexed_combos,10)"
   ]
  },
  {
   "cell_type": "code",
   "execution_count": 112,
   "metadata": {},
   "outputs": [
    {
     "data": {
      "text/plain": [
       "[(184855.565779821, array([80,  6]), array([73,  4]), (1, 8)),\n",
       " (184855.565779821, array([73,  4]), array([80,  6]), (8, 1)),\n",
       " (173456.0302613695, array([73,  4]), array([89,  8]), (8, 9)),\n",
       " (173456.0302613695, array([89,  8]), array([73,  4]), (9, 8)),\n",
       " (172911.92568018922, array([50,  4]), array([73,  4]), (6, 8)),\n",
       " (172911.92568018922, array([73,  4]), array([50,  4]), (8, 6)),\n",
       " (166208.23067840416, array([37,  3]), array([73,  4]), (2, 8)),\n",
       " (166208.23067840416, array([73,  4]), array([37,  3]), (8, 2)),\n",
       " (164984.95172770994, array([80,  6]), array([89,  8]), (1, 9)),\n",
       " (164984.95172770994, array([89,  8]), array([80,  6]), (9, 1))]"
      ]
     },
     "execution_count": 112,
     "metadata": {},
     "output_type": "execute_result"
    }
   ],
   "source": [
    "maximize_with_prior(containers,ratios,2,indexed_combos,10)"
   ]
  },
  {
   "cell_type": "code",
   "execution_count": 116,
   "metadata": {},
   "outputs": [
    {
     "data": {
      "text/plain": [
       "array([0.07749435, 0.1033258 , 0.09557636, 0.13174039, 0.06974491,\n",
       "       0.12011624, 0.09686794, 0.07749435, 0.14142719, 0.08621246])"
      ]
     },
     "execution_count": 116,
     "metadata": {},
     "output_type": "execute_result"
    }
   ],
   "source": [
    "ratios**1"
   ]
  },
  {
   "cell_type": "code",
   "execution_count": 113,
   "metadata": {},
   "outputs": [
    {
     "data": {
      "text/plain": [
       "[(56566.65857332667, array([90, 10]), array([89,  8]), (4, 9)),\n",
       " (184855.565779821, array([80,  6]), array([73,  4]), (1, 8)),\n",
       " (263086.19705841073, array([31,  2]), array([73,  4]), (5, 8)),\n",
       " (295721.85937141906, array([17,  1]), array([73,  4]), (3, 8)),\n",
       " (301570.2878827861, array([17,  1]), array([73,  4]), (3, 8)),\n",
       " (302374.67317420046, array([17,  1]), array([73,  4]), (3, 8)),\n",
       " (302483.12961209484, array([17,  1]), array([73,  4]), (3, 8)),\n",
       " (302497.72736340784, array([17,  1]), array([73,  4]), (3, 8)),\n",
       " (302499.69352634053, array([17,  1]), array([73,  4]), (3, 8)),\n",
       " (302499.95862459263, array([17,  1]), array([73,  4]), (3, 8))]"
      ]
     },
     "execution_count": 113,
     "metadata": {},
     "output_type": "execute_result"
    }
   ],
   "source": [
    "[maximize_with_prior(containers,ratios,i,indexed_combos,10)[0] for i in range(1,11)]"
   ]
  },
  {
   "cell_type": "code",
   "execution_count": 118,
   "metadata": {},
   "outputs": [
    {
     "data": {
      "text/plain": [
       "np.float64(51587.3015873016)"
      ]
     },
     "execution_count": 118,
     "metadata": {},
     "output_type": "execute_result"
    }
   ],
   "source": [
    "evaluate_combo(containers,(8,9),[0,0,0,0,0,0,0,0,0.1,0.1])"
   ]
  },
  {
   "cell_type": "markdown",
   "metadata": {},
   "source": [
    "Calculate Reasonable maxes for reasonable distributions"
   ]
  },
  {
   "cell_type": "code",
   "execution_count": 123,
   "metadata": {},
   "outputs": [],
   "source": [
    "evs = []\n",
    "for combo in indexed_combos:\n",
    "    evs.append((evaluate_combo(containers,combo,[0.1]*10),containers[combo[0]],containers[combo[1]],combo))"
   ]
  },
  {
   "cell_type": "code",
   "execution_count": 124,
   "metadata": {},
   "outputs": [
    {
     "data": {
      "text/plain": [
       "[(np.float64(52142.857142857145), array([80,  6]), array([73,  4]), (1, 8)),\n",
       " (np.float64(52142.857142857145), array([73,  4]), array([80,  6]), (8, 1)),\n",
       " (np.float64(51587.3015873016), array([73,  4]), array([89,  8]), (8, 9)),\n",
       " (np.float64(51587.3015873016), array([89,  8]), array([73,  4]), (9, 8)),\n",
       " (np.float64(49444.44444444444), array([80,  6]), array([89,  8]), (1, 9)),\n",
       " (np.float64(49444.44444444444), array([89,  8]), array([80,  6]), (9, 1)),\n",
       " (np.float64(47142.857142857145), array([90, 10]), array([73,  4]), (4, 8)),\n",
       " (np.float64(47142.857142857145), array([73,  4]), array([90, 10]), (8, 4)),\n",
       " (np.float64(45000.0), array([80,  6]), array([90, 10]), (1, 4)),\n",
       " (np.float64(45000.0), array([90, 10]), array([80,  6]), (4, 1))]"
      ]
     },
     "execution_count": 124,
     "metadata": {},
     "output_type": "execute_result"
    }
   ],
   "source": [
    "sorted(evs,key=lambda x: x[0],reverse=True)[:10]"
   ]
  },
  {
   "cell_type": "markdown",
   "metadata": {},
   "source": [
    "Generating distributions and simulating"
   ]
  },
  {
   "cell_type": "code",
   "execution_count": 490,
   "metadata": {},
   "outputs": [],
   "source": [
    "def generate_distribution(norm_sum):\n",
    "    base = np.full(10, norm_sum/10)  # Start with 10% each\n",
    "    deltas = np.random.uniform(-0.05, 0.05, 10)  # Random deltas between -5% and +5%\n",
    "    perturbed = base + deltas\n",
    "    # Ensure no negative values (in case the delta drops below zero)\n",
    "    perturbed = np.clip(perturbed, 0, None)\n",
    "    # Normalize to ensure the sum is 1\n",
    "    normalized = perturbed / perturbed.sum()\n",
    "    return normalized*norm_sum\n",
    "\n",
    "def generate_n_distributions(n,norm_sum):\n",
    "    return [generate_distribution(norm_sum) for _ in range(n)]\n"
   ]
  },
  {
   "cell_type": "code",
   "execution_count": 491,
   "metadata": {},
   "outputs": [
    {
     "data": {
      "text/plain": [
       "array([0.12807249, 0.14370426, 0.19483037, 0.19119252, 0.10782034,\n",
       "       0.16421274, 0.14966741, 0.14220979, 0.1040952 , 0.17419486])"
      ]
     },
     "execution_count": 491,
     "metadata": {},
     "output_type": "execute_result"
    }
   ],
   "source": [
    "generate_distribution(1.5)"
   ]
  },
  {
   "cell_type": "code",
   "execution_count": 492,
   "metadata": {},
   "outputs": [
    {
     "data": {
      "text/plain": [
       "np.float64(1.5)"
      ]
     },
     "execution_count": 492,
     "metadata": {},
     "output_type": "execute_result"
    }
   ],
   "source": [
    "sum(generate_distribution(norm_sum=1.5))"
   ]
  },
  {
   "cell_type": "code",
   "execution_count": 493,
   "metadata": {},
   "outputs": [],
   "source": [
    "container_dict = {i:container for i,container in enumerate(containers)}"
   ]
  },
  {
   "cell_type": "code",
   "execution_count": 494,
   "metadata": {},
   "outputs": [
    {
     "data": {
      "text/plain": [
       "{0: array([10,  1]),\n",
       " 1: array([80,  6]),\n",
       " 2: array([37,  3]),\n",
       " 3: array([17,  1]),\n",
       " 4: array([90, 10]),\n",
       " 5: array([31,  2]),\n",
       " 6: array([50,  4]),\n",
       " 7: array([20,  2]),\n",
       " 8: array([73,  4]),\n",
       " 9: array([89,  8])}"
      ]
     },
     "execution_count": 494,
     "metadata": {},
     "output_type": "execute_result"
    }
   ],
   "source": [
    "container_dict"
   ]
  },
  {
   "cell_type": "code",
   "execution_count": 495,
   "metadata": {},
   "outputs": [],
   "source": [
    "first_buckets = {i:0 for i in range(10)}"
   ]
  },
  {
   "cell_type": "code",
   "execution_count": 496,
   "metadata": {},
   "outputs": [],
   "source": [
    "second_buckets = {i:0 for i in range(10)}"
   ]
  },
  {
   "cell_type": "code",
   "execution_count": 497,
   "metadata": {},
   "outputs": [],
   "source": [
    "choices={\"First\":0, \"Second\":0}"
   ]
  },
  {
   "cell_type": "code",
   "execution_count": 499,
   "metadata": {},
   "outputs": [
    {
     "name": "stderr",
     "output_type": "stream",
     "text": [
      "Progress:   0%|          | 0/1000 [00:00<?, ?it/s]"
     ]
    },
    {
     "name": "stderr",
     "output_type": "stream",
     "text": [
      "Progress: 100%|██████████| 1000/1000 [00:00<00:00, 1754.38it/s]\n"
     ]
    }
   ],
   "source": [
    "first_buckets = {i:0 for i in range(10)}\n",
    "second_buckets = {i:0 for i in range(10)}\n",
    "choices={\"First\":0, \"Second\":0}\n",
    "n_distributions = 1000\n",
    "distributions = generate_n_distributions(n_distributions,norm_sum=1.25)\n",
    "bests = []\n",
    "for distribution in tqdm(distributions,\"Progress\"):\n",
    "    best = max([(evaluate_combo(containers,combo,distribution),evaluate_combo_but_on_first(containers,combo,distribution),combo) for combo in indexed_combos],key = lambda x: x[1])\n",
    "    # print\n",
    "    bests.append((best[0],best[1],container_dict[best[-1][0]],container_dict[best[-1][1]],best[-1]))\n",
    "    if best[1]>=best[0]:\n",
    "        choices[\"First\"]+=1\n",
    "    else:\n",
    "        choices[\"Second\"]+=1\n",
    "    first_buckets[best[-1][0]] += 1\n",
    "    second_buckets[best[-1][1]] += 1"
   ]
  },
  {
   "cell_type": "code",
   "execution_count": 500,
   "metadata": {},
   "outputs": [
    {
     "data": {
      "text/plain": [
       "{0: 0, 1: 269, 2: 0, 3: 0, 4: 114, 5: 0, 6: 7, 7: 0, 8: 350, 9: 260}"
      ]
     },
     "execution_count": 500,
     "metadata": {},
     "output_type": "execute_result"
    }
   ],
   "source": [
    "first_buckets"
   ]
  },
  {
   "cell_type": "code",
   "execution_count": 501,
   "metadata": {},
   "outputs": [
    {
     "data": {
      "text/plain": [
       "{0: 260, 1: 0, 2: 269, 3: 0, 4: 0, 5: 114, 6: 0, 7: 7, 8: 0, 9: 350}"
      ]
     },
     "execution_count": 501,
     "metadata": {},
     "output_type": "execute_result"
    }
   ],
   "source": [
    "second_buckets"
   ]
  },
  {
   "cell_type": "code",
   "execution_count": 502,
   "metadata": {},
   "outputs": [
    {
     "data": {
      "text/plain": [
       "Text(0.5, 1.0, 'Second Container')"
      ]
     },
     "execution_count": 502,
     "metadata": {},
     "output_type": "execute_result"
    },
    {
     "data": {
      "image/png": "[encoded data removed]",
      "text/plain": [
       "<Figure size 1200x600 with 2 Axes>"
      ]
     },
     "metadata": {},
     "output_type": "display_data"
    }
   ],
   "source": [
    "plt.figure(figsize=(12, 6))\n",
    "plt.subplot(121).bar(first_buckets.keys(), first_buckets.values())\n",
    "plt.title(\"First Container\")\n",
    "plt.subplot(122).bar(second_buckets.keys(), second_buckets.values())\n",
    "plt.title(\"Second Container\")"
   ]
  },
  {
   "cell_type": "code",
   "execution_count": 505,
   "metadata": {},
   "outputs": [
    {
     "data": {
      "text/plain": [
       "array([[10,  1],\n",
       "       [80,  6],\n",
       "       [37,  3],\n",
       "       [17,  1],\n",
       "       [90, 10],\n",
       "       [31,  2],\n",
       "       [50,  4],\n",
       "       [20,  2],\n",
       "       [73,  4],\n",
       "       [89,  8]])"
      ]
     },
     "execution_count": 505,
     "metadata": {},
     "output_type": "execute_result"
    }
   ],
   "source": [
    "containers"
   ]
  },
  {
   "cell_type": "code",
   "execution_count": 503,
   "metadata": {},
   "outputs": [
    {
     "data": {
      "text/plain": [
       "array([73,  4])"
      ]
     },
     "execution_count": 503,
     "metadata": {},
     "output_type": "execute_result"
    }
   ],
   "source": [
    "containers[8]"
   ]
  },
  {
   "cell_type": "code",
   "execution_count": 504,
   "metadata": {},
   "outputs": [
    {
     "data": {
      "text/plain": [
       "[(np.float64(72399.12089330252),\n",
       "  np.float64(66485.74003035868),\n",
       "  array([73,  4]),\n",
       "  array([89,  8]),\n",
       "  (8, 9)),\n",
       " (np.float64(67629.0726983564),\n",
       "  np.float64(62959.11372018519),\n",
       "  array([73,  4]),\n",
       "  array([89,  8]),\n",
       "  (8, 9)),\n",
       " (np.float64(66263.29631875543),\n",
       "  np.float64(63280.542576419226),\n",
       "  array([73,  4]),\n",
       "  array([89,  8]),\n",
       "  (8, 9)),\n",
       " (np.float64(66056.3633738856),\n",
       "  np.float64(65566.26752925511),\n",
       "  array([73,  4]),\n",
       "  array([89,  8]),\n",
       "  (8, 9)),\n",
       " (np.float64(65907.86357106363),\n",
       "  np.float64(59342.936529027684),\n",
       "  array([73,  4]),\n",
       "  array([89,  8]),\n",
       "  (8, 9)),\n",
       " (np.float64(65565.4170291714),\n",
       "  np.float64(59928.01715835555),\n",
       "  array([73,  4]),\n",
       "  array([89,  8]),\n",
       "  (8, 9)),\n",
       " (np.float64(65548.81060549064),\n",
       "  np.float64(60395.75106322228),\n",
       "  array([73,  4]),\n",
       "  array([89,  8]),\n",
       "  (8, 9)),\n",
       " (np.float64(64033.251804148575),\n",
       "  np.float64(61326.83087608246),\n",
       "  array([73,  4]),\n",
       "  array([89,  8]),\n",
       "  (8, 9)),\n",
       " (np.float64(63275.08737818581),\n",
       "  np.float64(60394.42024893522),\n",
       "  array([73,  4]),\n",
       "  array([89,  8]),\n",
       "  (8, 9)),\n",
       " (np.float64(62684.17617493046),\n",
       "  np.float64(57540.45304965372),\n",
       "  array([73,  4]),\n",
       "  array([89,  8]),\n",
       "  (8, 9))]"
      ]
     },
     "execution_count": 504,
     "metadata": {},
     "output_type": "execute_result"
    }
   ],
   "source": [
    "sorted(bests,key=lambda x: x[0],reverse=True)[:10]"
   ]
  },
  {
   "cell_type": "code",
   "execution_count": 420,
   "metadata": {},
   "outputs": [
    {
     "data": {
      "text/plain": [
       "(np.float64(54215.63874842508),\n",
       " np.float64(39078.870137205384),\n",
       " np.float64(74942.43377058719))"
      ]
     },
     "execution_count": 420,
     "metadata": {},
     "output_type": "execute_result"
    }
   ],
   "source": [
    "sum([best[1] for best in bests])/len(bests), min([best[1] for best in bests]), max([best[1] for best in bests])"
   ]
  },
  {
   "cell_type": "code",
   "execution_count": 421,
   "metadata": {},
   "outputs": [
    {
     "data": {
      "text/plain": [
       "(np.float64(29982.836581893283),\n",
       " np.float64(-3219.577630637941),\n",
       " np.float64(74834.01340839393))"
      ]
     },
     "execution_count": 421,
     "metadata": {},
     "output_type": "execute_result"
    }
   ],
   "source": [
    "sum([best[0] for best in bests])/len(bests), min([best[0] for best in bests]), max([best[0] for best in bests])"
   ]
  },
  {
   "cell_type": "code",
   "execution_count": 506,
   "metadata": {},
   "outputs": [
    {
     "data": {
      "text/plain": [
       "{'First': 969, 'Second': 31}"
      ]
     },
     "execution_count": 506,
     "metadata": {},
     "output_type": "execute_result"
    }
   ],
   "source": [
    "choices"
   ]
  },
  {
   "cell_type": "code",
   "execution_count": 423,
   "metadata": {},
   "outputs": [
    {
     "data": {
      "text/plain": [
       "array([[10,  1],\n",
       "       [80,  6],\n",
       "       [37,  3],\n",
       "       [17,  1],\n",
       "       [90, 10],\n",
       "       [31,  2],\n",
       "       [50,  4],\n",
       "       [20,  2],\n",
       "       [73,  4],\n",
       "       [89,  8]])"
      ]
     },
     "execution_count": 423,
     "metadata": {},
     "output_type": "execute_result"
    }
   ],
   "source": [
    "containers"
   ]
  },
  {
   "cell_type": "code",
   "execution_count": null,
   "metadata": {},
   "outputs": [],
   "source": []
  },
  {
   "cell_type": "code",
   "execution_count": 405,
   "metadata": {},
   "outputs": [
    {
     "ename": "TypeError",
     "evalue": "generate_n_distributions() missing 1 required positional argument: 'norm_sum'",
     "output_type": "error",
     "traceback": [
      "\u001b[1;31m---------------------------------------------------------------------------\u001b[0m",
      "\u001b[1;31mTypeError\u001b[0m                                 Traceback (most recent call last)",
      "Cell \u001b[1;32mIn[405], line 2\u001b[0m\n\u001b[0;32m      1\u001b[0m n_distributions \u001b[38;5;241m=\u001b[39m \u001b[38;5;241m1000\u001b[39m\n\u001b[1;32m----> 2\u001b[0m distributions \u001b[38;5;241m=\u001b[39m \u001b[43mgenerate_n_distributions\u001b[49m\u001b[43m(\u001b[49m\u001b[43mn_distributions\u001b[49m\u001b[43m)\u001b[49m\n\u001b[0;32m      3\u001b[0m bests \u001b[38;5;241m=\u001b[39m []\n\u001b[0;32m      4\u001b[0m \u001b[38;5;28;01mfor\u001b[39;00m distribution \u001b[38;5;129;01min\u001b[39;00m tqdm(distributions,\u001b[38;5;124m\"\u001b[39m\u001b[38;5;124mProgress\u001b[39m\u001b[38;5;124m\"\u001b[39m):\n",
      "\u001b[1;31mTypeError\u001b[0m: generate_n_distributions() missing 1 required positional argument: 'norm_sum'"
     ]
    }
   ],
   "source": [
    "n_distributions = 1000\n",
    "distributions = generate_n_distributions(n_distributions)\n",
    "bests = []\n",
    "for distribution in tqdm(distributions,\"Progress\"):\n",
    "    best = max([(evaluate_combo_but_on_first(containers,combo,distribution),combo) for combo in indexed_combos],key = lambda x: x[0])\n",
    "    bests.append((best[0],container_dict[best[1][0]],container_dict[best[1][1]],best[1]))\n",
    "    first_buckets[best[-1][0]] += 1\n",
    "    second_buckets[best[-1][1]] += 1"
   ]
  },
  {
   "cell_type": "code",
   "execution_count": 238,
   "metadata": {},
   "outputs": [
    {
     "data": {
      "text/plain": [
       "[(np.float64(87820.06052259966), array([73,  4]), array([89,  8]), (8, 9)),\n",
       " (np.float64(83349.00517546931), array([73,  4]), array([89,  8]), (8, 9)),\n",
       " (np.float64(82910.47463895142), array([73,  4]), array([89,  8]), (8, 9)),\n",
       " (np.float64(82464.11343027696), array([73,  4]), array([89,  8]), (8, 9)),\n",
       " (np.float64(81104.35431945806), array([73,  4]), array([89,  8]), (8, 9)),\n",
       " (np.float64(80704.93161835866), array([73,  4]), array([89,  8]), (8, 9)),\n",
       " (np.float64(80462.34036146672), array([73,  4]), array([89,  8]), (8, 9)),\n",
       " (np.float64(80324.26942048584), array([73,  4]), array([89,  8]), (8, 9)),\n",
       " (np.float64(80270.23735141975), array([73,  4]), array([89,  8]), (8, 9)),\n",
       " (np.float64(79970.901438366), array([73,  4]), array([89,  8]), (8, 9))]"
      ]
     },
     "execution_count": 238,
     "metadata": {},
     "output_type": "execute_result"
    }
   ],
   "source": [
    "sorted(bests,key=lambda x: x[0],reverse=True)[:10]"
   ]
  },
  {
   "cell_type": "code",
   "execution_count": 239,
   "metadata": {},
   "outputs": [
    {
     "data": {
      "text/plain": [
       "np.float64(61880.88681479355)"
      ]
     },
     "execution_count": 239,
     "metadata": {},
     "output_type": "execute_result"
    }
   ],
   "source": [
    "sum(best[0] for best in bests)/len(bests)"
   ]
  },
  {
   "cell_type": "code",
   "execution_count": 240,
   "metadata": {},
   "outputs": [
    {
     "data": {
      "text/plain": [
       "np.float64(43577.28280787944)"
      ]
     },
     "execution_count": 240,
     "metadata": {},
     "output_type": "execute_result"
    }
   ],
   "source": [
    "min(best[0] for best in bests)"
   ]
  },
  {
   "cell_type": "code",
   "execution_count": 241,
   "metadata": {},
   "outputs": [
    {
     "data": {
      "text/plain": [
       "np.float64(87820.06052259966)"
      ]
     },
     "execution_count": 241,
     "metadata": {},
     "output_type": "execute_result"
    }
   ],
   "source": [
    "max([best[0] for best in bests])"
   ]
  },
  {
   "cell_type": "code",
   "execution_count": 507,
   "metadata": {},
   "outputs": [],
   "source": [
    "def generate_random__dirichlet_distribution(size=10, norm_sum=1):\n",
    "    \n",
    "    return np.random.dirichlet(np.ones(size), size=1)[0] * norm_sum\n"
   ]
  },
  {
   "cell_type": "code",
   "execution_count": 508,
   "metadata": {},
   "outputs": [
    {
     "data": {
      "text/plain": [
       "np.float64(1.5)"
      ]
     },
     "execution_count": 508,
     "metadata": {},
     "output_type": "execute_result"
    }
   ],
   "source": [
    "sum(generate_random__dirichlet_distribution(norm_sum=1.5))"
   ]
  },
  {
   "cell_type": "code",
   "execution_count": 509,
   "metadata": {},
   "outputs": [],
   "source": [
    "def generate_capped_distribution(size=10, cap=0.15,norm_sum=1):\n",
    "    while True:\n",
    "        values = np.random.rand(size)\n",
    "        values = values / values.sum()  # Normalize to sum to 1\n",
    "\n",
    "        # Clip values at the cap\n",
    "        clipped = np.minimum(values, cap)\n",
    "        clipped_sum = clipped.sum()\n",
    "\n",
    "        # If the clipped sum is exactly 1, we’re done\n",
    "        if np.isclose(clipped_sum, norm_sum):\n",
    "            return clipped\n",
    "\n",
    "        # Redistribute the difference\n",
    "        excess = norm_sum - clipped_sum\n",
    "        room = cap - clipped  # Room left for each value\n",
    "        room[clipped >= cap] = 0  # No room in already-capped values\n",
    "\n",
    "        if room.sum() == 0:\n",
    "            continue  # Try again — no space to redistribute\n",
    "\n",
    "        # Proportionally redistribute the excess to values under the cap\n",
    "        redistribute = (room / room.sum()) * excess\n",
    "        adjusted = clipped + redistribute\n",
    "\n",
    "        return adjusted\n"
   ]
  },
  {
   "cell_type": "code",
   "execution_count": 430,
   "metadata": {},
   "outputs": [
    {
     "data": {
      "text/plain": [
       "np.float64(1.5)"
      ]
     },
     "execution_count": 430,
     "metadata": {},
     "output_type": "execute_result"
    }
   ],
   "source": [
    "sum(generate_capped_distribution(cap=0.175,norm_sum=1.5))"
   ]
  },
  {
   "cell_type": "code",
   "execution_count": 432,
   "metadata": {},
   "outputs": [
    {
     "data": {
      "text/plain": [
       "array([0.13583404, 0.07961285, 0.16      , 0.08443274, 0.04930839,\n",
       "       0.04990952, 0.16      , 0.06090246, 0.16      , 0.16      ])"
      ]
     },
     "execution_count": 432,
     "metadata": {},
     "output_type": "execute_result"
    }
   ],
   "source": [
    "generate_capped_distribution(cap=0.16,norm_sum=1.1)"
   ]
  },
  {
   "cell_type": "code",
   "execution_count": 510,
   "metadata": {},
   "outputs": [
    {
     "name": "stderr",
     "output_type": "stream",
     "text": [
      "Progress:   0%|          | 0/1000 [00:00<?, ?it/s]"
     ]
    },
    {
     "name": "stderr",
     "output_type": "stream",
     "text": [
      "Progress: 100%|██████████| 1000/1000 [00:00<00:00, 2073.53it/s]\n"
     ]
    }
   ],
   "source": [
    "first_buckets = {i:0 for i in range(10)}\n",
    "second_buckets = {i:0 for i in range(10)}\n",
    "choices={\"First\":0, \"Second\":0}\n",
    "n_distributions = 1000\n",
    "distributions = [generate_random__dirichlet_distribution(norm_sum=1.25) for _ in range(n_distributions)]\n",
    "bests = []\n",
    "for distribution in tqdm(distributions,\"Progress\"):\n",
    "    best = max([(evaluate_combo(containers,combo,distribution),evaluate_combo_but_on_first(containers,combo,distribution),combo) for combo in indexed_combos],key = lambda x: x[1])\n",
    "    # print\n",
    "    bests.append((best[0],best[1],container_dict[best[-1][0]],container_dict[best[-1][1]],best[-1]))\n",
    "    if best[1]>=best[0]:\n",
    "        choices[\"First\"]+=1\n",
    "    else:\n",
    "        choices[\"Second\"]+=1\n",
    "    first_buckets[best[-1][0]] += 1\n",
    "    second_buckets[best[-1][1]] += 1"
   ]
  },
  {
   "cell_type": "code",
   "execution_count": 511,
   "metadata": {},
   "outputs": [
    {
     "data": {
      "text/plain": [
       "(np.float64(181886.17298503485),\n",
       " np.float64(44206.26513583666),\n",
       " np.float64(103229.85098366212))"
      ]
     },
     "execution_count": 511,
     "metadata": {},
     "output_type": "execute_result"
    }
   ],
   "source": [
    "max([best[1] for best in bests]), min([best[1] for best in bests]), sum(best[1] for best in bests)/len(bests)"
   ]
  },
  {
   "cell_type": "code",
   "execution_count": 512,
   "metadata": {},
   "outputs": [
    {
     "data": {
      "text/plain": [
       "{'First': 725, 'Second': 275}"
      ]
     },
     "execution_count": 512,
     "metadata": {},
     "output_type": "execute_result"
    }
   ],
   "source": [
    "choices"
   ]
  },
  {
   "cell_type": "code",
   "execution_count": 513,
   "metadata": {},
   "outputs": [
    {
     "data": {
      "text/plain": [
       "Text(0.5, 1.0, 'Second Container')"
      ]
     },
     "execution_count": 513,
     "metadata": {},
     "output_type": "execute_result"
    },
    {
     "data": {
      "image/png": "[encoded data removed]",
      "text/plain": [
       "<Figure size 1200x600 with 2 Axes>"
      ]
     },
     "metadata": {},
     "output_type": "display_data"
    }
   ],
   "source": [
    "plt.figure(figsize=(12, 6))\n",
    "plt.subplot(121).bar(first_buckets.keys(), first_buckets.values())\n",
    "plt.title(\"First Container\")\n",
    "plt.subplot(122).bar(second_buckets.keys(), second_buckets.values())\n",
    "plt.title(\"Second Container\")"
   ]
  },
  {
   "cell_type": "code",
   "execution_count": 453,
   "metadata": {},
   "outputs": [
    {
     "name": "stderr",
     "output_type": "stream",
     "text": [
      "Progress: 100%|██████████| 1000/1000 [00:00<00:00, 2423.91it/s]\n"
     ]
    }
   ],
   "source": [
    "first_buckets = {i:0 for i in range(10)}\n",
    "second_buckets = {i:0 for i in range(10)}\n",
    "choices={\"First\":0, \"Second\":0}\n",
    "n_distributions = 1000\n",
    "distributions = [generate_capped_distribution(cap=0.17,norm_sum=1.25) for _ in range(n_distributions)]\n",
    "bests = []\n",
    "for distribution in tqdm(distributions,\"Progress\"):\n",
    "    best = max([(evaluate_combo(containers,combo,distribution),evaluate_combo_but_on_first(containers,combo,distribution),combo) for combo in indexed_combos],key = lambda x: x[1])\n",
    "    # print\n",
    "    bests.append((best[0],best[1],container_dict[best[-1][0]],container_dict[best[-1][1]],best[-1]))\n",
    "    if best[1]>=best[0]:\n",
    "        choices[\"First\"]+=1\n",
    "    else:\n",
    "        choices[\"Second\"]+=1\n",
    "    first_buckets[best[-1][0]] += 1\n",
    "    second_buckets[best[-1][1]] += 1"
   ]
  },
  {
   "cell_type": "code",
   "execution_count": 454,
   "metadata": {},
   "outputs": [
    {
     "data": {
      "text/plain": [
       "(np.float64(72451.80856503465),\n",
       " np.float64(39020.35270208579),\n",
       " np.float64(54080.581623893275))"
      ]
     },
     "execution_count": 454,
     "metadata": {},
     "output_type": "execute_result"
    }
   ],
   "source": [
    "max([best[1] for best in bests]), min([best[1] for best in bests]), sum(best[1] for best in bests)/len(bests)"
   ]
  },
  {
   "cell_type": "code",
   "execution_count": 455,
   "metadata": {},
   "outputs": [
    {
     "data": {
      "text/plain": [
       "{'First': 959, 'Second': 41}"
      ]
     },
     "execution_count": 455,
     "metadata": {},
     "output_type": "execute_result"
    }
   ],
   "source": [
    "choices"
   ]
  },
  {
   "cell_type": "code",
   "execution_count": 457,
   "metadata": {},
   "outputs": [
    {
     "data": {
      "text/plain": [
       "Text(0.5, 1.0, 'Second Container')"
      ]
     },
     "execution_count": 457,
     "metadata": {},
     "output_type": "execute_result"
    },
    {
     "data": {
      "image/png": "[encoded data removed]",
      "text/plain": [
       "<Figure size 1200x600 with 2 Axes>"
      ]
     },
     "metadata": {},
     "output_type": "display_data"
    }
   ],
   "source": [
    "plt.figure(figsize=(12, 6))\n",
    "plt.subplot(121).bar(first_buckets.keys(), first_buckets.values())\n",
    "plt.title(\"First Container\")\n",
    "plt.subplot(122).bar(second_buckets.keys(), second_buckets.values())\n",
    "plt.title(\"Second Container\")"
   ]
  },
  {
   "cell_type": "code",
   "execution_count": 515,
   "metadata": {},
   "outputs": [],
   "source": [
    "def generate_biased_distribution(delta_range=0.03,norm_sum=1):\n",
    "    base = np.full(10, 0.5*norm_sum/6)  # Start with base value for non-biased containers\n",
    "    bias_indices = [1, 4, 8, 9]\n",
    "\n",
    "    for i in bias_indices:\n",
    "        base[i] = 0.5*norm_sum/4\n",
    "\n",
    "    # Apply random delta in ±delta_range\n",
    "    deltas = np.random.uniform(-delta_range, delta_range, size=10)\n",
    "    perturbed = base + deltas\n",
    "\n",
    "    # Prevent negative values\n",
    "    perturbed = np.clip(perturbed, 0, None)\n",
    "\n",
    "    # Normalize to make the total sum to 1\n",
    "    normalized = perturbed / perturbed.sum()\n",
    "\n",
    "    return normalized*norm_sum\n"
   ]
  },
  {
   "cell_type": "code",
   "execution_count": 529,
   "metadata": {},
   "outputs": [],
   "source": [
    "def generate_biased_distribution_73_4(delta_range=0.03,norm_sum=1):\n",
    "    base = np.full(10, 0.5*norm_sum/9)  # Start with base value for non-biased containers\n",
    "    bias_indices = [8]\n",
    "\n",
    "    for i in bias_indices:\n",
    "        base[i] = 0.4\n",
    "\n",
    "    # Apply random delta in ±delta_range\n",
    "    deltas = np.random.uniform(-delta_range, delta_range, size=10)\n",
    "    perturbed = base + deltas\n",
    "\n",
    "    # Prevent negative values\n",
    "    perturbed = np.clip(perturbed, 0, None)\n",
    "\n",
    "    # Normalize to make the total sum to 1\n",
    "    normalized = perturbed / perturbed.sum()\n",
    "\n",
    "    return normalized*norm_sum\n"
   ]
  },
  {
   "cell_type": "code",
   "execution_count": null,
   "metadata": {},
   "outputs": [],
   "source": [
    "def generate_biased_distribution_73_4(delta_range=0.03,norm_sum=1):\n",
    "    base = np.full(10, 0.5*norm_sum/9)  # Start with base value for non-biased containers\n",
    "    bias_indices = [8]\n",
    "\n",
    "    for i in bias_indices:\n",
    "        base[i] = 0.4\n",
    "\n",
    "    # Apply random delta in ±delta_range\n",
    "    deltas = np.random.uniform(-delta_range, delta_range, size=10)\n",
    "    perturbed = base + deltas\n",
    "\n",
    "    # Prevent negative values\n",
    "    perturbed = np.clip(perturbed, 0, None)\n",
    "\n",
    "    # Normalize to make the total sum to 1\n",
    "    normalized = perturbed / perturbed.sum()\n",
    "\n",
    "    return normalized*norm_sum\n"
   ]
  },
  {
   "cell_type": "code",
   "execution_count": 530,
   "metadata": {},
   "outputs": [
    {
     "data": {
      "text/plain": [
       "(array([80,  6]), array([90, 10]), array([73,  4]), array([89,  8]))"
      ]
     },
     "execution_count": 530,
     "metadata": {},
     "output_type": "execute_result"
    }
   ],
   "source": [
    "containers[1],containers[4],containers[8],containers[9]"
   ]
  },
  {
   "cell_type": "code",
   "execution_count": 532,
   "metadata": {},
   "outputs": [
    {
     "data": {
      "text/plain": [
       "array([0.05507526, 0.12213937, 0.07026632, 0.09954663, 0.09573337,\n",
       "       0.07568193, 0.05671153, 0.10415557, 0.46328186, 0.10740818])"
      ]
     },
     "execution_count": 532,
     "metadata": {},
     "output_type": "execute_result"
    }
   ],
   "source": [
    "generate_biased_distribution_73_4(delta_range=0.03,norm_sum=1.25)"
   ]
  },
  {
   "cell_type": "code",
   "execution_count": 516,
   "metadata": {},
   "outputs": [
    {
     "data": {
      "text/plain": [
       "array([0.12356089, 0.1425856 , 0.10639158, 0.11996776, 0.14563238,\n",
       "       0.11005921, 0.1240468 , 0.12170666, 0.1442147 , 0.11183442])"
      ]
     },
     "execution_count": 516,
     "metadata": {},
     "output_type": "execute_result"
    }
   ],
   "source": [
    "generate_biased_distribution(delta_range=0.05,norm_sum=1.25)"
   ]
  },
  {
   "cell_type": "code",
   "execution_count": 517,
   "metadata": {},
   "outputs": [
    {
     "data": {
      "text/plain": [
       "np.float64(1.2499999999999998)"
      ]
     },
     "execution_count": 517,
     "metadata": {},
     "output_type": "execute_result"
    }
   ],
   "source": [
    "sum(generate_biased_distribution(delta_range=0.05,norm_sum=1.25))"
   ]
  },
  {
   "cell_type": "code",
   "execution_count": 518,
   "metadata": {},
   "outputs": [
    {
     "name": "stderr",
     "output_type": "stream",
     "text": [
      "Progress:   0%|          | 0/1000 [00:00<?, ?it/s]"
     ]
    },
    {
     "name": "stderr",
     "output_type": "stream",
     "text": [
      "Progress: 100%|██████████| 1000/1000 [00:00<00:00, 2062.31it/s]\n"
     ]
    }
   ],
   "source": [
    "first_buckets = {i:0 for i in range(10)}\n",
    "second_buckets = {i:0 for i in range(10)}\n",
    "choices={\"First\":0, \"Second\":0}\n",
    "n_distributions = 1000\n",
    "distributions = [generate_biased_distribution(delta_range=0.04,norm_sum=1.25) for _ in range(n_distributions)]\n",
    "bests = []\n",
    "for distribution in tqdm(distributions,\"Progress\"):\n",
    "    best = max([(evaluate_combo(containers,combo,distribution),evaluate_combo_but_on_first(containers,combo,distribution),combo) for combo in indexed_combos],key = lambda x: x[1])\n",
    "    # print\n",
    "    bests.append((best[0],best[1],container_dict[best[-1][0]],container_dict[best[-1][1]],best[-1]))\n",
    "    if best[1]>=best[0]:\n",
    "        choices[\"First\"]+=1\n",
    "    else:\n",
    "        choices[\"Second\"]+=1\n",
    "    first_buckets[best[-1][0]] += 1\n",
    "    second_buckets[best[-1][1]] += 1"
   ]
  },
  {
   "cell_type": "code",
   "execution_count": 519,
   "metadata": {},
   "outputs": [
    {
     "data": {
      "text/plain": [
       "(np.float64(51588.35301785112),\n",
       " np.float64(34889.97357685593),\n",
       " np.float64(42417.12494051716))"
      ]
     },
     "execution_count": 519,
     "metadata": {},
     "output_type": "execute_result"
    }
   ],
   "source": [
    "max([best[1] for best in bests]), min([best[1] for best in bests]), sum(best[1] for best in bests)/len(bests)"
   ]
  },
  {
   "cell_type": "code",
   "execution_count": 520,
   "metadata": {},
   "outputs": [
    {
     "data": {
      "text/plain": [
       "{'First': 1000, 'Second': 0}"
      ]
     },
     "execution_count": 520,
     "metadata": {},
     "output_type": "execute_result"
    }
   ],
   "source": [
    "choices"
   ]
  },
  {
   "cell_type": "code",
   "execution_count": 521,
   "metadata": {},
   "outputs": [
    {
     "data": {
      "text/plain": [
       "Text(0.5, 1.0, 'Second Container')"
      ]
     },
     "execution_count": 521,
     "metadata": {},
     "output_type": "execute_result"
    },
    {
     "data": {
      "image/png": "[encoded data removed]",
      "text/plain": [
       "<Figure size 1200x600 with 2 Axes>"
      ]
     },
     "metadata": {},
     "output_type": "display_data"
    }
   ],
   "source": [
    "plt.figure(figsize=(12, 6))\n",
    "plt.subplot(121).bar(first_buckets.keys(), first_buckets.values())\n",
    "plt.title(\"First Container\")\n",
    "plt.subplot(122).bar(second_buckets.keys(), second_buckets.values())\n",
    "plt.title(\"Second Container\")"
   ]
  },
  {
   "cell_type": "code",
   "execution_count": 533,
   "metadata": {},
   "outputs": [
    {
     "data": {
      "text/plain": [
       "array([[10,  1],\n",
       "       [80,  6],\n",
       "       [37,  3],\n",
       "       [17,  1],\n",
       "       [90, 10],\n",
       "       [31,  2],\n",
       "       [50,  4],\n",
       "       [20,  2],\n",
       "       [73,  4],\n",
       "       [89,  8]])"
      ]
     },
     "execution_count": 533,
     "metadata": {},
     "output_type": "execute_result"
    }
   ],
   "source": [
    "containers"
   ]
  },
  {
   "cell_type": "code",
   "execution_count": 538,
   "metadata": {},
   "outputs": [
    {
     "data": {
      "text/plain": [
       "[np.float64(10.0),\n",
       " np.float64(13.333333333333334),\n",
       " np.float64(12.333333333333334),\n",
       " np.float64(17.0),\n",
       " np.float64(9.0),\n",
       " np.float64(15.5),\n",
       " np.float64(12.5),\n",
       " np.float64(10.0),\n",
       " np.float64(18.25),\n",
       " np.float64(11.125)]"
      ]
     },
     "execution_count": 538,
     "metadata": {},
     "output_type": "execute_result"
    }
   ],
   "source": [
    "[i/j for i,j in containers]"
   ]
  },
  {
   "cell_type": "code",
   "execution_count": 539,
   "metadata": {},
   "outputs": [],
   "source": [
    "base_ev = [i/j for i,j in containers]/sum([i/j for i,j in containers])"
   ]
  },
  {
   "cell_type": "code",
   "execution_count": 542,
   "metadata": {},
   "outputs": [
    {
     "data": {
      "text/plain": [
       "array([0.07749435, 0.1033258 , 0.09557636, 0.13174039, 0.06974491,\n",
       "       0.12011624, 0.09686794, 0.07749435, 0.14142719, 0.08621246])"
      ]
     },
     "execution_count": 542,
     "metadata": {},
     "output_type": "execute_result"
    }
   ],
   "source": [
    "base_ev"
   ]
  },
  {
   "cell_type": "code",
   "execution_count": 544,
   "metadata": {},
   "outputs": [
    {
     "data": {
      "text/plain": [
       "array([0.03996692, 0.09473641, 0.07497943, 0.19635749, 0.02913589,\n",
       "       0.14883182, 0.0780604 , 0.03996692, 0.24293457, 0.05503016])"
      ]
     },
     "execution_count": 544,
     "metadata": {},
     "output_type": "execute_result"
    }
   ],
   "source": [
    "(base_ev**3)/sum(base_ev**3)"
   ]
  },
  {
   "cell_type": "code",
   "execution_count": 545,
   "metadata": {},
   "outputs": [
    {
     "data": {
      "text/plain": [
       "np.float64(1.0)"
      ]
     },
     "execution_count": 545,
     "metadata": {},
     "output_type": "execute_result"
    }
   ],
   "source": [
    "sum((base_ev**3)/sum(base_ev**3))"
   ]
  },
  {
   "cell_type": "code",
   "execution_count": 546,
   "metadata": {},
   "outputs": [],
   "source": [
    "def formula(container,p):\n",
    "    multiplier = container[0]\n",
    "    individuals = container[1]\n",
    "    return (multiplier * 10000)/(individuals + 100*p) "
   ]
  },
  {
   "cell_type": "code",
   "execution_count": 573,
   "metadata": {},
   "outputs": [],
   "source": [
    "def generate_gu_distribution(containers,iters, power):\n",
    "    base_ev = [i/j for i,j in containers]/sum([i/j for i,j in containers])\n",
    "    order = (base_ev**power)/sum(base_ev**power)\n",
    "    for i in range(iters):\n",
    "        new_order = np.array([formula(container,order[i]) for i,container in enumerate(containers)])\n",
    "        order = (new_order**power)/sum(new_order**power)\n",
    "    return order"
   ]
  },
  {
   "cell_type": "code",
   "execution_count": 607,
   "metadata": {},
   "outputs": [
    {
     "data": {
      "text/plain": [
       "array([[10,  1],\n",
       "       [80,  6],\n",
       "       [37,  3],\n",
       "       [17,  1],\n",
       "       [90, 10],\n",
       "       [31,  2],\n",
       "       [50,  4],\n",
       "       [20,  2],\n",
       "       [73,  4],\n",
       "       [89,  8]])"
      ]
     },
     "execution_count": 607,
     "metadata": {},
     "output_type": "execute_result"
    }
   ],
   "source": [
    "containers"
   ]
  },
  {
   "cell_type": "code",
   "execution_count": 612,
   "metadata": {},
   "outputs": [
    {
     "data": {
      "text/plain": [
       "array([0.0084215 , 0.14518767, 0.04599704, 0.00058739, 0.35565098,\n",
       "       0.00650368, 0.07980583, 0.03897553, 0.01804463, 0.30082575])"
      ]
     },
     "execution_count": 612,
     "metadata": {},
     "output_type": "execute_result"
    }
   ],
   "source": [
    "generate_gu_distribution(containers,iters=1,power=3)"
   ]
  },
  {
   "cell_type": "code",
   "execution_count": 632,
   "metadata": {},
   "outputs": [],
   "source": [
    "gugu = generate_gu_distribution(containers,iters=3,power=3)"
   ]
  },
  {
   "cell_type": "code",
   "execution_count": 634,
   "metadata": {},
   "outputs": [
    {
     "data": {
      "text/plain": [
       "array([6.54397854e-03, 2.83553228e-01, 9.95287880e-02, 6.04987662e-06,\n",
       "       1.19292549e-01, 5.02812745e-04, 1.80255426e-01, 8.87143820e-02,\n",
       "       2.89761992e-03, 2.18705165e-01])"
      ]
     },
     "execution_count": 634,
     "metadata": {},
     "output_type": "execute_result"
    }
   ],
   "source": [
    "gugu"
   ]
  },
  {
   "cell_type": "code",
   "execution_count": 633,
   "metadata": {},
   "outputs": [
    {
     "data": {
      "text/plain": [
       "[(np.float64(170172.61130453844), array([73,  4])),\n",
       " (np.float64(169897.21428152925), array([17,  1])),\n",
       " (np.float64(151198.76665235916), array([31,  2])),\n",
       " (np.float64(60444.95269817405), array([10,  1]))]"
      ]
     },
     "execution_count": 633,
     "metadata": {},
     "output_type": "execute_result"
    }
   ],
   "source": [
    "sorted([(formula(container,gugu[i]),container) for i,container in enumerate(containers)])[::-1][:4]"
   ]
  },
  {
   "cell_type": "code",
   "execution_count": 580,
   "metadata": {},
   "outputs": [],
   "source": [
    "weighted = 0.25*generate_gu_distribution(containers,iters=0,power=3) + 0.45*generate_gu_distribution(containers,iters=1,power=3) + 0.2*generate_gu_distribution(containers,iters=2,power=3) + 0.1*generate_gu_distribution(containers,iters=3,power=3)"
   ]
  },
  {
   "cell_type": "code",
   "execution_count": 602,
   "metadata": {},
   "outputs": [
    {
     "data": {
      "text/plain": [
       "[(np.float64(46294.91311379859), array([73,  4])),\n",
       " (np.float64(45005.3360936115), array([37,  3])),\n",
       " (np.float64(44737.69230334601), array([80,  6])),\n",
       " (np.float64(43392.58315678171), array([50,  4]))]"
      ]
     },
     "execution_count": 602,
     "metadata": {},
     "output_type": "execute_result"
    }
   ],
   "source": [
    "sorted([(formula(container,weighted[i]),container) for i,container in enumerate(containers)])[::-1][:4]"
   ]
  },
  {
   "cell_type": "code",
   "execution_count": 557,
   "metadata": {},
   "outputs": [
    {
     "data": {
      "text/plain": [
       "array([[10,  1],\n",
       "       [80,  6],\n",
       "       [37,  3],\n",
       "       [17,  1],\n",
       "       [90, 10],\n",
       "       [31,  2],\n",
       "       [50,  4],\n",
       "       [20,  2],\n",
       "       [73,  4],\n",
       "       [89,  8]])"
      ]
     },
     "execution_count": 557,
     "metadata": {},
     "output_type": "execute_result"
    }
   ],
   "source": [
    "containers"
   ]
  },
  {
   "cell_type": "code",
   "execution_count": null,
   "metadata": {},
   "outputs": [],
   "source": []
  }
 ],
 "metadata": {
  "kernelspec": {
   "display_name": "env",
   "language": "python",
   "name": "python3"
  },
  "language_info": {
   "codemirror_mode": {
    "name": "ipython",
    "version": 3
   },
   "file_extension": ".py",
   "mimetype": "text/x-python",
   "name": "python",
   "nbconvert_exporter": "python",
   "pygments_lexer": "ipython3",
   "version": "3.10.11"
  }
 },
 "nbformat": 4,
 "nbformat_minor": 2
}
