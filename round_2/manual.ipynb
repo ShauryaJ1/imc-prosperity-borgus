{
 "cells": [
  {
   "cell_type": "markdown",
   "metadata": {},
   "source": [
    "Profit for first box:\n",
    "\n",
    "(Multiplier * 10000)/(I + 100*P)\n",
    "\n",
    "Profit for second box:\n",
    "\n",
    "(Multiplier * 10000)/(I + 100*P) - 50,000\n",
    "\n",
    "(Multiplier- 5I)/500 > P for second box to be profitable"
   ]
  },
  {
   "cell_type": "code",
   "execution_count": 149,
   "metadata": {},
   "outputs": [],
   "source": [
    "import numpy as np\n",
    "from scipy.optimize import minimize\n",
    "import itertools\n",
    "from tqdm.auto import tqdm\n",
    "from random import randint\n",
    "import matplotlib.pyplot as plt"
   ]
  },
  {
   "cell_type": "code",
   "execution_count": null,
   "metadata": {},
   "outputs": [],
   "source": [
    "containers = np.array([(10,1),(80,6),(37,3),(17,1),(90,10),(31,2),(50,4),(20,2),(73,4),(89,8)])"
   ]
  },
  {
   "cell_type": "code",
   "execution_count": 4,
   "metadata": {},
   "outputs": [],
   "source": [
    "p_values = [(container[0]-5*container[1])/500 for container in containers]"
   ]
  },
  {
   "cell_type": "code",
   "execution_count": 5,
   "metadata": {},
   "outputs": [
    {
     "data": {
      "text/plain": [
       "[np.float64(0.01),\n",
       " np.float64(0.1),\n",
       " np.float64(0.044),\n",
       " np.float64(0.024),\n",
       " np.float64(0.08),\n",
       " np.float64(0.042),\n",
       " np.float64(0.06),\n",
       " np.float64(0.02),\n",
       " np.float64(0.106),\n",
       " np.float64(0.098)]"
      ]
     },
     "execution_count": 5,
     "metadata": {},
     "output_type": "execute_result"
    }
   ],
   "source": [
    "p_values"
   ]
  },
  {
   "cell_type": "code",
   "execution_count": 6,
   "metadata": {},
   "outputs": [],
   "source": [
    "# First box\n",
    "worst_case_scenarios = [(10000*container[0])/(container[1]+100) for container in containers]"
   ]
  },
  {
   "cell_type": "code",
   "execution_count": 7,
   "metadata": {},
   "outputs": [
    {
     "data": {
      "text/plain": [
       "[np.float64(990.0990099009902),\n",
       " np.float64(7547.169811320755),\n",
       " np.float64(3592.233009708738),\n",
       " np.float64(1683.1683168316831),\n",
       " np.float64(8181.818181818182),\n",
       " np.float64(3039.2156862745096),\n",
       " np.float64(4807.692307692308),\n",
       " np.float64(1960.7843137254902),\n",
       " np.float64(7019.2307692307695),\n",
       " np.float64(8240.74074074074)]"
      ]
     },
     "execution_count": 7,
     "metadata": {},
     "output_type": "execute_result"
    }
   ],
   "source": [
    "worst_case_scenarios"
   ]
  },
  {
   "cell_type": "code",
   "execution_count": 30,
   "metadata": {},
   "outputs": [],
   "source": [
    "\n",
    "def minimize_ev(multiplier_1,individuals_1, multiplier_2, individuals_2):\n",
    "    def function(x):\n",
    "        p1,p2 = x\n",
    "        return (multiplier_1 * 10000)/(individuals_1 + 100*p1) + (multiplier_2 * 10000)/(individuals_2 + 100*p2) - 50000\n",
    "\n",
    "    bounds = [(0,1),(0,1)]\n",
    "    constraints = [{\n",
    "    'type': 'ineq',\n",
    "    'fun': lambda x: 1 - x[0] - x[1]\n",
    "     }]\n",
    "    x0 = [1,1]\n",
    "    return minimize(fun=function,x0=x0,bounds=bounds,constraints=constraints)\n",
    "\n",
    "\n",
    "\n"
   ]
  },
  {
   "cell_type": "code",
   "execution_count": 31,
   "metadata": {},
   "outputs": [],
   "source": [
    "result = minimize_ev(10,1,80,6)"
   ]
  },
  {
   "cell_type": "code",
   "execution_count": 44,
   "metadata": {},
   "outputs": [],
   "source": [
    "container_combos = list(itertools.combinations(containers,2))"
   ]
  },
  {
   "cell_type": "code",
   "execution_count": 45,
   "metadata": {},
   "outputs": [
    {
     "data": {
      "text/plain": [
       "45"
      ]
     },
     "execution_count": 45,
     "metadata": {},
     "output_type": "execute_result"
    }
   ],
   "source": [
    "len(container_combos)"
   ]
  },
  {
   "cell_type": "code",
   "execution_count": 46,
   "metadata": {},
   "outputs": [],
   "source": [
    "for combo in container_combos:\n",
    "    if combo[0][0] == combo[1][0] and combo[0][1] == combo[1][1]:\n",
    "        print(combo)"
   ]
  },
  {
   "cell_type": "code",
   "execution_count": 47,
   "metadata": {},
   "outputs": [],
   "source": [
    "container_combos = [[combo[0][0],combo[0][1],combo[1][0],combo[1][1]] for combo in container_combos]"
   ]
  },
  {
   "cell_type": "code",
   "execution_count": 48,
   "metadata": {},
   "outputs": [
    {
     "data": {
      "text/plain": [
       "45"
      ]
     },
     "execution_count": 48,
     "metadata": {},
     "output_type": "execute_result"
    }
   ],
   "source": [
    "len(container_combos)"
   ]
  },
  {
   "cell_type": "code",
   "execution_count": 49,
   "metadata": {},
   "outputs": [
    {
     "name": "stderr",
     "output_type": "stream",
     "text": [
      "Progress: 100%|██████████| 45/45 [00:00<00:00, 218.12it/s]\n"
     ]
    }
   ],
   "source": [
    "minimums = []\n",
    "for combo in tqdm(container_combos,\"Progress\"):\n",
    "    result = minimize_ev(combo[0],combo[1],combo[2],combo[3])\n",
    "    minimums.append((result.fun, result.x[0], result.x[1], combo[0], combo[1], combo[2], combo[3]))\n"
   ]
  },
  {
   "cell_type": "code",
   "execution_count": 59,
   "metadata": {},
   "outputs": [
    {
     "data": {
      "text/plain": [
       "['90,10,89,8',\n",
       " '80,6,89,8',\n",
       " '80,6,90,10',\n",
       " '73,4,89,8',\n",
       " '90,10,73,4',\n",
       " '80,6,73,4',\n",
       " '50,4,89,8',\n",
       " '90,10,50,4',\n",
       " '80,6,50,4',\n",
       " '50,4,73,4']"
      ]
     },
     "execution_count": 59,
     "metadata": {},
     "output_type": "execute_result"
    }
   ],
   "source": [
    "[\",\".join([str(i) for i in e[3:]]) for e in sorted(minimums)[::-1][:10]]"
   ]
  },
  {
   "cell_type": "code",
   "execution_count": 75,
   "metadata": {},
   "outputs": [],
   "source": [
    "ratios = [container[0]/container[1] for container in containers]"
   ]
  },
  {
   "cell_type": "code",
   "execution_count": 76,
   "metadata": {},
   "outputs": [],
   "source": [
    "ratios = np.array([ratio/sum(ratios) for ratio in ratios])"
   ]
  },
  {
   "cell_type": "code",
   "execution_count": 77,
   "metadata": {},
   "outputs": [
    {
     "data": {
      "text/plain": [
       "array([0.07749435, 0.1033258 , 0.09557636, 0.13174039, 0.06974491,\n",
       "       0.12011624, 0.09686794, 0.07749435, 0.14142719, 0.08621246])"
      ]
     },
     "execution_count": 77,
     "metadata": {},
     "output_type": "execute_result"
    }
   ],
   "source": [
    "ratios"
   ]
  },
  {
   "cell_type": "code",
   "execution_count": 78,
   "metadata": {},
   "outputs": [
    {
     "data": {
      "text/plain": [
       "np.float64(0.9999999999999999)"
      ]
     },
     "execution_count": 78,
     "metadata": {},
     "output_type": "execute_result"
    }
   ],
   "source": [
    "sum(ratios)"
   ]
  },
  {
   "cell_type": "code",
   "execution_count": 66,
   "metadata": {},
   "outputs": [
    {
     "data": {
      "text/plain": [
       "[[np.int64(10), np.int64(1), np.int64(80), np.int64(6)],\n",
       " [np.int64(10), np.int64(1), np.int64(37), np.int64(3)],\n",
       " [np.int64(10), np.int64(1), np.int64(17), np.int64(1)],\n",
       " [np.int64(10), np.int64(1), np.int64(90), np.int64(10)],\n",
       " [np.int64(10), np.int64(1), np.int64(31), np.int64(2)]]"
      ]
     },
     "execution_count": 66,
     "metadata": {},
     "output_type": "execute_result"
    }
   ],
   "source": [
    "container_combos[:5]"
   ]
  },
  {
   "cell_type": "code",
   "execution_count": 71,
   "metadata": {},
   "outputs": [],
   "source": [
    "indexed_combos = list(itertools.combinations([*range(10)],2))"
   ]
  },
  {
   "cell_type": "code",
   "execution_count": 72,
   "metadata": {},
   "outputs": [
    {
     "data": {
      "text/plain": [
       "45"
      ]
     },
     "execution_count": 72,
     "metadata": {},
     "output_type": "execute_result"
    }
   ],
   "source": [
    "len(indexed_combos)"
   ]
  },
  {
   "cell_type": "code",
   "execution_count": 83,
   "metadata": {},
   "outputs": [],
   "source": [
    "indexed_combos+=[(j,i) for i,j in indexed_combos]"
   ]
  },
  {
   "cell_type": "code",
   "execution_count": 84,
   "metadata": {},
   "outputs": [
    {
     "data": {
      "text/plain": [
       "90"
      ]
     },
     "execution_count": 84,
     "metadata": {},
     "output_type": "execute_result"
    }
   ],
   "source": [
    "len(indexed_combos)"
   ]
  },
  {
   "cell_type": "code",
   "execution_count": 184,
   "metadata": {},
   "outputs": [],
   "source": [
    "def evaluate_combo(containers, combo,ratios):\n",
    "    multiplier_1 = containers[combo[0]][0]\n",
    "    individuals_1 = containers[combo[0]][1]\n",
    "    multiplier_2 = containers[combo[1]][0]\n",
    "    individuals_2 = containers[combo[1]][1]\n",
    "    p1 = ratios[combo[0]]\n",
    "    p2 = ratios[combo[1]]\n",
    "    return (10000*multiplier_1)/(individuals_1 + 100*p1) + (10000*multiplier_2)/(individuals_2 + 100*p2) - 50000\n",
    "def evaluate_combo_but_on_first(containers, combo, ratios):\n",
    "    multiplier_1 = containers[combo[0]][0]\n",
    "    individuals_1 = containers[combo[0]][1]\n",
    "    multiplier_2 = containers[combo[1]][0]\n",
    "    individuals_2 = containers[combo[1]][1]\n",
    "    p1 = ratios[combo[0]]\n",
    "    p2 = ratios[combo[1]]\n",
    "    return (10000*multiplier_1)/(individuals_1 + 100*p1)\n",
    "def maximize_with_prior(containers,ratios,power,combos,top):\n",
    "   raised_prior = ratios**power\n",
    "   values = []\n",
    "   for combo in combos:\n",
    "         value = evaluate_combo(containers,combo,raised_prior)\n",
    "         values.append((float(value),containers[combo[0]],containers[combo[1]],combo))\n",
    "#    print(values)\n",
    "   return sorted(values,key=lambda x: x[0],reverse=True)[:top]"
   ]
  },
  {
   "cell_type": "code",
   "execution_count": 111,
   "metadata": {},
   "outputs": [
    {
     "data": {
      "text/plain": [
       "[(56566.65857332667, array([90, 10]), array([89,  8]), (4, 9)),\n",
       " (56566.65857332667, array([89,  8]), array([90, 10]), (9, 4)),\n",
       " (52527.77556567686, array([80,  6]), array([89,  8]), (1, 9)),\n",
       " (52527.77556567686, array([89,  8]), array([80,  6]), (9, 1)),\n",
       " (52002.58551051645, array([80,  6]), array([90, 10]), (1, 4)),\n",
       " (52002.58551051645, array([90, 10]), array([80,  6]), (4, 1)),\n",
       " (43782.451686636225, array([73,  4]), array([89,  8]), (8, 9)),\n",
       " (43782.451686636225, array([89,  8]), array([73,  4]), (9, 8)),\n",
       " (43257.26163147582, array([90, 10]), array([73,  4]), (4, 8)),\n",
       " (43257.26163147582, array([73,  4]), array([90, 10]), (8, 4))]"
      ]
     },
     "execution_count": 111,
     "metadata": {},
     "output_type": "execute_result"
    }
   ],
   "source": [
    "maximize_with_prior(containers,ratios,1,indexed_combos,10)"
   ]
  },
  {
   "cell_type": "code",
   "execution_count": 112,
   "metadata": {},
   "outputs": [
    {
     "data": {
      "text/plain": [
       "[(184855.565779821, array([80,  6]), array([73,  4]), (1, 8)),\n",
       " (184855.565779821, array([73,  4]), array([80,  6]), (8, 1)),\n",
       " (173456.0302613695, array([73,  4]), array([89,  8]), (8, 9)),\n",
       " (173456.0302613695, array([89,  8]), array([73,  4]), (9, 8)),\n",
       " (172911.92568018922, array([50,  4]), array([73,  4]), (6, 8)),\n",
       " (172911.92568018922, array([73,  4]), array([50,  4]), (8, 6)),\n",
       " (166208.23067840416, array([37,  3]), array([73,  4]), (2, 8)),\n",
       " (166208.23067840416, array([73,  4]), array([37,  3]), (8, 2)),\n",
       " (164984.95172770994, array([80,  6]), array([89,  8]), (1, 9)),\n",
       " (164984.95172770994, array([89,  8]), array([80,  6]), (9, 1))]"
      ]
     },
     "execution_count": 112,
     "metadata": {},
     "output_type": "execute_result"
    }
   ],
   "source": [
    "maximize_with_prior(containers,ratios,2,indexed_combos,10)"
   ]
  },
  {
   "cell_type": "code",
   "execution_count": 116,
   "metadata": {},
   "outputs": [
    {
     "data": {
      "text/plain": [
       "array([0.07749435, 0.1033258 , 0.09557636, 0.13174039, 0.06974491,\n",
       "       0.12011624, 0.09686794, 0.07749435, 0.14142719, 0.08621246])"
      ]
     },
     "execution_count": 116,
     "metadata": {},
     "output_type": "execute_result"
    }
   ],
   "source": [
    "ratios**1"
   ]
  },
  {
   "cell_type": "code",
   "execution_count": 113,
   "metadata": {},
   "outputs": [
    {
     "data": {
      "text/plain": [
       "[(56566.65857332667, array([90, 10]), array([89,  8]), (4, 9)),\n",
       " (184855.565779821, array([80,  6]), array([73,  4]), (1, 8)),\n",
       " (263086.19705841073, array([31,  2]), array([73,  4]), (5, 8)),\n",
       " (295721.85937141906, array([17,  1]), array([73,  4]), (3, 8)),\n",
       " (301570.2878827861, array([17,  1]), array([73,  4]), (3, 8)),\n",
       " (302374.67317420046, array([17,  1]), array([73,  4]), (3, 8)),\n",
       " (302483.12961209484, array([17,  1]), array([73,  4]), (3, 8)),\n",
       " (302497.72736340784, array([17,  1]), array([73,  4]), (3, 8)),\n",
       " (302499.69352634053, array([17,  1]), array([73,  4]), (3, 8)),\n",
       " (302499.95862459263, array([17,  1]), array([73,  4]), (3, 8))]"
      ]
     },
     "execution_count": 113,
     "metadata": {},
     "output_type": "execute_result"
    }
   ],
   "source": [
    "[maximize_with_prior(containers,ratios,i,indexed_combos,10)[0] for i in range(1,11)]"
   ]
  },
  {
   "cell_type": "code",
   "execution_count": 118,
   "metadata": {},
   "outputs": [
    {
     "data": {
      "text/plain": [
       "np.float64(51587.3015873016)"
      ]
     },
     "execution_count": 118,
     "metadata": {},
     "output_type": "execute_result"
    }
   ],
   "source": [
    "evaluate_combo(containers,(8,9),[0,0,0,0,0,0,0,0,0.1,0.1])"
   ]
  },
  {
   "cell_type": "markdown",
   "metadata": {},
   "source": [
    "Calculate Reasonable maxes for reasonable distributions"
   ]
  },
  {
   "cell_type": "code",
   "execution_count": 123,
   "metadata": {},
   "outputs": [],
   "source": [
    "evs = []\n",
    "for combo in indexed_combos:\n",
    "    evs.append((evaluate_combo(containers,combo,[0.1]*10),containers[combo[0]],containers[combo[1]],combo))"
   ]
  },
  {
   "cell_type": "code",
   "execution_count": 124,
   "metadata": {},
   "outputs": [
    {
     "data": {
      "text/plain": [
       "[(np.float64(52142.857142857145), array([80,  6]), array([73,  4]), (1, 8)),\n",
       " (np.float64(52142.857142857145), array([73,  4]), array([80,  6]), (8, 1)),\n",
       " (np.float64(51587.3015873016), array([73,  4]), array([89,  8]), (8, 9)),\n",
       " (np.float64(51587.3015873016), array([89,  8]), array([73,  4]), (9, 8)),\n",
       " (np.float64(49444.44444444444), array([80,  6]), array([89,  8]), (1, 9)),\n",
       " (np.float64(49444.44444444444), array([89,  8]), array([80,  6]), (9, 1)),\n",
       " (np.float64(47142.857142857145), array([90, 10]), array([73,  4]), (4, 8)),\n",
       " (np.float64(47142.857142857145), array([73,  4]), array([90, 10]), (8, 4)),\n",
       " (np.float64(45000.0), array([80,  6]), array([90, 10]), (1, 4)),\n",
       " (np.float64(45000.0), array([90, 10]), array([80,  6]), (4, 1))]"
      ]
     },
     "execution_count": 124,
     "metadata": {},
     "output_type": "execute_result"
    }
   ],
   "source": [
    "sorted(evs,key=lambda x: x[0],reverse=True)[:10]"
   ]
  },
  {
   "cell_type": "markdown",
   "metadata": {},
   "source": [
    "Generating distributions and simulating"
   ]
  },
  {
   "cell_type": "code",
   "execution_count": 321,
   "metadata": {},
   "outputs": [],
   "source": [
    "def generate_distribution(norm_sum):\n",
    "    base = np.full(10, 0.1)  # Start with 10% each\n",
    "    deltas = np.random.uniform(-0.05, 0.05, 10)  # Random deltas between -5% and +5%\n",
    "    perturbed = base + deltas\n",
    "    # Ensure no negative values (in case the delta drops below zero)\n",
    "    perturbed = np.clip(perturbed, 0, None)\n",
    "    # Normalize to ensure the sum is 1\n",
    "    normalized = perturbed / perturbed.sum()\n",
    "    return normalized*norm_sum\n",
    "\n",
    "def generate_n_distributions(n,norm_sum):\n",
    "    return [generate_distribution(norm_sum) for _ in range(n)]\n"
   ]
  },
  {
   "cell_type": "code",
   "execution_count": 322,
   "metadata": {},
   "outputs": [
    {
     "data": {
      "text/plain": [
       "array([0.11119151, 0.12815247, 0.20254717, 0.14539635, 0.08069181,\n",
       "       0.22173341, 0.10640656, 0.13710774, 0.21869901, 0.14807397])"
      ]
     },
     "execution_count": 322,
     "metadata": {},
     "output_type": "execute_result"
    }
   ],
   "source": [
    "generate_distribution(1.5)"
   ]
  },
  {
   "cell_type": "code",
   "execution_count": 323,
   "metadata": {},
   "outputs": [
    {
     "data": {
      "text/plain": [
       "np.float64(1.5)"
      ]
     },
     "execution_count": 323,
     "metadata": {},
     "output_type": "execute_result"
    }
   ],
   "source": [
    "sum(generate_distribution(norm_sum=1.5))"
   ]
  },
  {
   "cell_type": "code",
   "execution_count": 324,
   "metadata": {},
   "outputs": [],
   "source": [
    "container_dict = {i:container for i,container in enumerate(containers)}"
   ]
  },
  {
   "cell_type": "code",
   "execution_count": 325,
   "metadata": {},
   "outputs": [
    {
     "data": {
      "text/plain": [
       "{0: array([10,  1]),\n",
       " 1: array([80,  6]),\n",
       " 2: array([37,  3]),\n",
       " 3: array([17,  1]),\n",
       " 4: array([90, 10]),\n",
       " 5: array([31,  2]),\n",
       " 6: array([50,  4]),\n",
       " 7: array([20,  2]),\n",
       " 8: array([73,  4]),\n",
       " 9: array([89,  8])}"
      ]
     },
     "execution_count": 325,
     "metadata": {},
     "output_type": "execute_result"
    }
   ],
   "source": [
    "container_dict"
   ]
  },
  {
   "cell_type": "code",
   "execution_count": 326,
   "metadata": {},
   "outputs": [],
   "source": [
    "first_buckets = {i:0 for i in range(10)}"
   ]
  },
  {
   "cell_type": "code",
   "execution_count": 327,
   "metadata": {},
   "outputs": [],
   "source": [
    "second_buckets = {i:0 for i in range(10)}"
   ]
  },
  {
   "cell_type": "code",
   "execution_count": 328,
   "metadata": {},
   "outputs": [],
   "source": [
    "choices={\"First\":0, \"Second\":0}"
   ]
  },
  {
   "cell_type": "code",
   "execution_count": 483,
   "metadata": {},
   "outputs": [
    {
     "name": "stderr",
     "output_type": "stream",
     "text": [
      "Progress:   0%|          | 0/1000 [00:00<?, ?it/s]"
     ]
    },
    {
     "name": "stderr",
     "output_type": "stream",
     "text": [
      "Progress: 100%|██████████| 1000/1000 [00:00<00:00, 2250.26it/s]\n"
     ]
    }
   ],
   "source": [
    "first_buckets = {i:0 for i in range(10)}\n",
    "second_buckets = {i:0 for i in range(10)}\n",
    "choices={\"First\":0, \"Second\":0}\n",
    "n_distributions = 1000\n",
    "distributions = generate_n_distributions(n_distributions,norm_sum=1.25)\n",
    "bests = []\n",
    "for distribution in tqdm(distributions,\"Progress\"):\n",
    "    best = max([(evaluate_combo(containers,combo,distribution),evaluate_combo_but_on_first(containers,combo,distribution),combo) for combo in indexed_combos],key = lambda x: x[1])\n",
    "    # print\n",
    "    bests.append((best[0],best[1],container_dict[best[-1][0]],container_dict[best[-1][1]],best[-1]))\n",
    "    if best[1]>=best[0]:\n",
    "        choices[\"First\"]+=1\n",
    "    else:\n",
    "        choices[\"Second\"]+=1\n",
    "    first_buckets[best[-1][0]] += 1\n",
    "    second_buckets[best[-1][1]] += 1"
   ]
  },
  {
   "cell_type": "code",
   "execution_count": 484,
   "metadata": {},
   "outputs": [
    {
     "data": {
      "text/plain": [
       "{0: 0, 1: 260, 2: 1, 3: 0, 4: 131, 5: 0, 6: 25, 7: 0, 8: 318, 9: 265}"
      ]
     },
     "execution_count": 484,
     "metadata": {},
     "output_type": "execute_result"
    }
   ],
   "source": [
    "first_buckets"
   ]
  },
  {
   "cell_type": "code",
   "execution_count": 485,
   "metadata": {},
   "outputs": [
    {
     "data": {
      "text/plain": [
       "{0: 265, 1: 0, 2: 260, 3: 1, 4: 0, 5: 131, 6: 0, 7: 25, 8: 0, 9: 318}"
      ]
     },
     "execution_count": 485,
     "metadata": {},
     "output_type": "execute_result"
    }
   ],
   "source": [
    "second_buckets"
   ]
  },
  {
   "cell_type": "code",
   "execution_count": 486,
   "metadata": {},
   "outputs": [
    {
     "data": {
      "text/plain": [
       "Text(0.5, 1.0, 'Second Container')"
      ]
     },
     "execution_count": 486,
     "metadata": {},
     "output_type": "execute_result"
    },
    {
     "data": {
      "image/png": "[encoded data removed]",
      "text/plain": [
       "<Figure size 1200x600 with 2 Axes>"
      ]
     },
     "metadata": {},
     "output_type": "display_data"
    }
   ],
   "source": [
    "plt.figure(figsize=(12, 6))\n",
    "plt.subplot(121).bar(first_buckets.keys(), first_buckets.values())\n",
    "plt.title(\"First Container\")\n",
    "plt.subplot(122).bar(second_buckets.keys(), second_buckets.values())\n",
    "plt.title(\"Second Container\")"
   ]
  },
  {
   "cell_type": "code",
   "execution_count": 418,
   "metadata": {},
   "outputs": [
    {
     "data": {
      "text/plain": [
       "array([73,  4])"
      ]
     },
     "execution_count": 418,
     "metadata": {},
     "output_type": "execute_result"
    }
   ],
   "source": [
    "containers[8]"
   ]
  },
  {
   "cell_type": "code",
   "execution_count": 419,
   "metadata": {},
   "outputs": [
    {
     "data": {
      "text/plain": [
       "[(np.float64(74834.01340839393),\n",
       "  np.float64(64046.21151931461),\n",
       "  array([73,  4]),\n",
       "  array([89,  8]),\n",
       "  (8, 9)),\n",
       " (np.float64(73663.41551868041),\n",
       "  np.float64(69183.14682333411),\n",
       "  array([73,  4]),\n",
       "  array([89,  8]),\n",
       "  (8, 9)),\n",
       " (np.float64(73366.79440196854),\n",
       "  np.float64(67393.98555983444),\n",
       "  array([73,  4]),\n",
       "  array([89,  8]),\n",
       "  (8, 9)),\n",
       " (np.float64(73361.94681183269),\n",
       "  np.float64(69050.73343388253),\n",
       "  array([73,  4]),\n",
       "  array([89,  8]),\n",
       "  (8, 9)),\n",
       " (np.float64(71583.61315128606),\n",
       "  np.float64(64211.672645480896),\n",
       "  array([73,  4]),\n",
       "  array([89,  8]),\n",
       "  (8, 9)),\n",
       " (np.float64(71564.62014364051),\n",
       "  np.float64(63838.48275935591),\n",
       "  array([73,  4]),\n",
       "  array([89,  8]),\n",
       "  (8, 9)),\n",
       " (np.float64(70865.2798070703),\n",
       "  np.float64(68343.39110069175),\n",
       "  array([73,  4]),\n",
       "  array([89,  8]),\n",
       "  (8, 9)),\n",
       " (np.float64(70428.56000671841),\n",
       "  np.float64(69410.0433131427),\n",
       "  array([73,  4]),\n",
       "  array([89,  8]),\n",
       "  (8, 9)),\n",
       " (np.float64(70057.7679219758),\n",
       "  np.float64(63577.26616567624),\n",
       "  array([73,  4]),\n",
       "  array([89,  8]),\n",
       "  (8, 9)),\n",
       " (np.float64(69773.24402936292),\n",
       "  np.float64(63245.96415228379),\n",
       "  array([73,  4]),\n",
       "  array([89,  8]),\n",
       "  (8, 9))]"
      ]
     },
     "execution_count": 419,
     "metadata": {},
     "output_type": "execute_result"
    }
   ],
   "source": [
    "sorted(bests,key=lambda x: x[0],reverse=True)[:10]"
   ]
  },
  {
   "cell_type": "code",
   "execution_count": 420,
   "metadata": {},
   "outputs": [
    {
     "data": {
      "text/plain": [
       "(np.float64(54215.63874842508),\n",
       " np.float64(39078.870137205384),\n",
       " np.float64(74942.43377058719))"
      ]
     },
     "execution_count": 420,
     "metadata": {},
     "output_type": "execute_result"
    }
   ],
   "source": [
    "sum([best[1] for best in bests])/len(bests), min([best[1] for best in bests]), max([best[1] for best in bests])"
   ]
  },
  {
   "cell_type": "code",
   "execution_count": 421,
   "metadata": {},
   "outputs": [
    {
     "data": {
      "text/plain": [
       "(np.float64(29982.836581893283),\n",
       " np.float64(-3219.577630637941),\n",
       " np.float64(74834.01340839393))"
      ]
     },
     "execution_count": 421,
     "metadata": {},
     "output_type": "execute_result"
    }
   ],
   "source": [
    "sum([best[0] for best in bests])/len(bests), min([best[0] for best in bests]), max([best[0] for best in bests])"
   ]
  },
  {
   "cell_type": "code",
   "execution_count": 422,
   "metadata": {},
   "outputs": [
    {
     "data": {
      "text/plain": [
       "{'First': 947, 'Second': 53}"
      ]
     },
     "execution_count": 422,
     "metadata": {},
     "output_type": "execute_result"
    }
   ],
   "source": [
    "choices"
   ]
  },
  {
   "cell_type": "code",
   "execution_count": 423,
   "metadata": {},
   "outputs": [
    {
     "data": {
      "text/plain": [
       "array([[10,  1],\n",
       "       [80,  6],\n",
       "       [37,  3],\n",
       "       [17,  1],\n",
       "       [90, 10],\n",
       "       [31,  2],\n",
       "       [50,  4],\n",
       "       [20,  2],\n",
       "       [73,  4],\n",
       "       [89,  8]])"
      ]
     },
     "execution_count": 423,
     "metadata": {},
     "output_type": "execute_result"
    }
   ],
   "source": [
    "containers"
   ]
  },
  {
   "cell_type": "code",
   "execution_count": null,
   "metadata": {},
   "outputs": [],
   "source": []
  },
  {
   "cell_type": "code",
   "execution_count": 405,
   "metadata": {},
   "outputs": [
    {
     "ename": "TypeError",
     "evalue": "generate_n_distributions() missing 1 required positional argument: 'norm_sum'",
     "output_type": "error",
     "traceback": [
      "\u001b[1;31m---------------------------------------------------------------------------\u001b[0m",
      "\u001b[1;31mTypeError\u001b[0m                                 Traceback (most recent call last)",
      "Cell \u001b[1;32mIn[405], line 2\u001b[0m\n\u001b[0;32m      1\u001b[0m n_distributions \u001b[38;5;241m=\u001b[39m \u001b[38;5;241m1000\u001b[39m\n\u001b[1;32m----> 2\u001b[0m distributions \u001b[38;5;241m=\u001b[39m \u001b[43mgenerate_n_distributions\u001b[49m\u001b[43m(\u001b[49m\u001b[43mn_distributions\u001b[49m\u001b[43m)\u001b[49m\n\u001b[0;32m      3\u001b[0m bests \u001b[38;5;241m=\u001b[39m []\n\u001b[0;32m      4\u001b[0m \u001b[38;5;28;01mfor\u001b[39;00m distribution \u001b[38;5;129;01min\u001b[39;00m tqdm(distributions,\u001b[38;5;124m\"\u001b[39m\u001b[38;5;124mProgress\u001b[39m\u001b[38;5;124m\"\u001b[39m):\n",
      "\u001b[1;31mTypeError\u001b[0m: generate_n_distributions() missing 1 required positional argument: 'norm_sum'"
     ]
    }
   ],
   "source": [
    "n_distributions = 1000\n",
    "distributions = generate_n_distributions(n_distributions)\n",
    "bests = []\n",
    "for distribution in tqdm(distributions,\"Progress\"):\n",
    "    best = max([(evaluate_combo_but_on_first(containers,combo,distribution),combo) for combo in indexed_combos],key = lambda x: x[0])\n",
    "    bests.append((best[0],container_dict[best[1][0]],container_dict[best[1][1]],best[1]))\n",
    "    first_buckets[best[-1][0]] += 1\n",
    "    second_buckets[best[-1][1]] += 1"
   ]
  },
  {
   "cell_type": "code",
   "execution_count": 238,
   "metadata": {},
   "outputs": [
    {
     "data": {
      "text/plain": [
       "[(np.float64(87820.06052259966), array([73,  4]), array([89,  8]), (8, 9)),\n",
       " (np.float64(83349.00517546931), array([73,  4]), array([89,  8]), (8, 9)),\n",
       " (np.float64(82910.47463895142), array([73,  4]), array([89,  8]), (8, 9)),\n",
       " (np.float64(82464.11343027696), array([73,  4]), array([89,  8]), (8, 9)),\n",
       " (np.float64(81104.35431945806), array([73,  4]), array([89,  8]), (8, 9)),\n",
       " (np.float64(80704.93161835866), array([73,  4]), array([89,  8]), (8, 9)),\n",
       " (np.float64(80462.34036146672), array([73,  4]), array([89,  8]), (8, 9)),\n",
       " (np.float64(80324.26942048584), array([73,  4]), array([89,  8]), (8, 9)),\n",
       " (np.float64(80270.23735141975), array([73,  4]), array([89,  8]), (8, 9)),\n",
       " (np.float64(79970.901438366), array([73,  4]), array([89,  8]), (8, 9))]"
      ]
     },
     "execution_count": 238,
     "metadata": {},
     "output_type": "execute_result"
    }
   ],
   "source": [
    "sorted(bests,key=lambda x: x[0],reverse=True)[:10]"
   ]
  },
  {
   "cell_type": "code",
   "execution_count": 239,
   "metadata": {},
   "outputs": [
    {
     "data": {
      "text/plain": [
       "np.float64(61880.88681479355)"
      ]
     },
     "execution_count": 239,
     "metadata": {},
     "output_type": "execute_result"
    }
   ],
   "source": [
    "sum(best[0] for best in bests)/len(bests)"
   ]
  },
  {
   "cell_type": "code",
   "execution_count": 240,
   "metadata": {},
   "outputs": [
    {
     "data": {
      "text/plain": [
       "np.float64(43577.28280787944)"
      ]
     },
     "execution_count": 240,
     "metadata": {},
     "output_type": "execute_result"
    }
   ],
   "source": [
    "min(best[0] for best in bests)"
   ]
  },
  {
   "cell_type": "code",
   "execution_count": 241,
   "metadata": {},
   "outputs": [
    {
     "data": {
      "text/plain": [
       "np.float64(87820.06052259966)"
      ]
     },
     "execution_count": 241,
     "metadata": {},
     "output_type": "execute_result"
    }
   ],
   "source": [
    "max([best[0] for best in bests])"
   ]
  },
  {
   "cell_type": "code",
   "execution_count": 424,
   "metadata": {},
   "outputs": [],
   "source": [
    "def generate_random__dirichlet_distribution(size=10, norm_sum=1):\n",
    "    \n",
    "    return np.random.dirichlet(np.ones(size), size=1)[0] * norm_sum\n"
   ]
  },
  {
   "cell_type": "code",
   "execution_count": 427,
   "metadata": {},
   "outputs": [
    {
     "data": {
      "text/plain": [
       "np.float64(1.4999999999999998)"
      ]
     },
     "execution_count": 427,
     "metadata": {},
     "output_type": "execute_result"
    }
   ],
   "source": [
    "sum(generate_random__dirichlet_distribution(norm_sum=1.5))"
   ]
  },
  {
   "cell_type": "code",
   "execution_count": 428,
   "metadata": {},
   "outputs": [],
   "source": [
    "def generate_capped_distribution(size=10, cap=0.15,norm_sum=1):\n",
    "    while True:\n",
    "        values = np.random.rand(size)\n",
    "        values = values / values.sum()  # Normalize to sum to 1\n",
    "\n",
    "        # Clip values at the cap\n",
    "        clipped = np.minimum(values, cap)\n",
    "        clipped_sum = clipped.sum()\n",
    "\n",
    "        # If the clipped sum is exactly 1, we’re done\n",
    "        if np.isclose(clipped_sum, norm_sum):\n",
    "            return clipped\n",
    "\n",
    "        # Redistribute the difference\n",
    "        excess = norm_sum - clipped_sum\n",
    "        room = cap - clipped  # Room left for each value\n",
    "        room[clipped >= cap] = 0  # No room in already-capped values\n",
    "\n",
    "        if room.sum() == 0:\n",
    "            continue  # Try again — no space to redistribute\n",
    "\n",
    "        # Proportionally redistribute the excess to values under the cap\n",
    "        redistribute = (room / room.sum()) * excess\n",
    "        adjusted = clipped + redistribute\n",
    "\n",
    "        return adjusted\n"
   ]
  },
  {
   "cell_type": "code",
   "execution_count": 430,
   "metadata": {},
   "outputs": [
    {
     "data": {
      "text/plain": [
       "np.float64(1.5)"
      ]
     },
     "execution_count": 430,
     "metadata": {},
     "output_type": "execute_result"
    }
   ],
   "source": [
    "sum(generate_capped_distribution(cap=0.175,norm_sum=1.5))"
   ]
  },
  {
   "cell_type": "code",
   "execution_count": 432,
   "metadata": {},
   "outputs": [
    {
     "data": {
      "text/plain": [
       "array([0.13583404, 0.07961285, 0.16      , 0.08443274, 0.04930839,\n",
       "       0.04990952, 0.16      , 0.06090246, 0.16      , 0.16      ])"
      ]
     },
     "execution_count": 432,
     "metadata": {},
     "output_type": "execute_result"
    }
   ],
   "source": [
    "generate_capped_distribution(cap=0.16,norm_sum=1.1)"
   ]
  },
  {
   "cell_type": "code",
   "execution_count": 448,
   "metadata": {},
   "outputs": [
    {
     "name": "stderr",
     "output_type": "stream",
     "text": [
      "Progress:   0%|          | 0/1000 [00:00<?, ?it/s]"
     ]
    },
    {
     "name": "stderr",
     "output_type": "stream",
     "text": [
      "Progress: 100%|██████████| 1000/1000 [00:00<00:00, 2087.29it/s]\n"
     ]
    }
   ],
   "source": [
    "first_buckets = {i:0 for i in range(10)}\n",
    "second_buckets = {i:0 for i in range(10)}\n",
    "choices={\"First\":0, \"Second\":0}\n",
    "n_distributions = 1000\n",
    "distributions = [generate_random__dirichlet_distribution(norm_sum=1.15) for _ in range(n_distributions)]\n",
    "bests = []\n",
    "for distribution in tqdm(distributions,\"Progress\"):\n",
    "    best = max([(evaluate_combo(containers,combo,distribution),evaluate_combo_but_on_first(containers,combo,distribution),combo) for combo in indexed_combos],key = lambda x: x[1])\n",
    "    # print\n",
    "    bests.append((best[0],best[1],container_dict[best[-1][0]],container_dict[best[-1][1]],best[-1]))\n",
    "    if best[1]>=best[0]:\n",
    "        choices[\"First\"]+=1\n",
    "    else:\n",
    "        choices[\"Second\"]+=1\n",
    "    first_buckets[best[-1][0]] += 1\n",
    "    second_buckets[best[-1][1]] += 1"
   ]
  },
  {
   "cell_type": "code",
   "execution_count": 449,
   "metadata": {},
   "outputs": [
    {
     "data": {
      "text/plain": [
       "(np.float64(182414.22017900727),\n",
       " np.float64(45077.22382610515),\n",
       " np.float64(106032.1023189095))"
      ]
     },
     "execution_count": 449,
     "metadata": {},
     "output_type": "execute_result"
    }
   ],
   "source": [
    "max([best[1] for best in bests]), min([best[1] for best in bests]), sum(best[1] for best in bests)/len(bests)"
   ]
  },
  {
   "cell_type": "code",
   "execution_count": 450,
   "metadata": {},
   "outputs": [
    {
     "data": {
      "text/plain": [
       "{'First': 722, 'Second': 278}"
      ]
     },
     "execution_count": 450,
     "metadata": {},
     "output_type": "execute_result"
    }
   ],
   "source": [
    "choices"
   ]
  },
  {
   "cell_type": "code",
   "execution_count": 452,
   "metadata": {},
   "outputs": [
    {
     "data": {
      "text/plain": [
       "Text(0.5, 1.0, 'Second Container')"
      ]
     },
     "execution_count": 452,
     "metadata": {},
     "output_type": "execute_result"
    },
    {
     "data": {
      "image/png": "[encoded data removed]",
      "text/plain": [
       "<Figure size 1200x600 with 2 Axes>"
      ]
     },
     "metadata": {},
     "output_type": "display_data"
    }
   ],
   "source": [
    "plt.figure(figsize=(12, 6))\n",
    "plt.subplot(121).bar(first_buckets.keys(), first_buckets.values())\n",
    "plt.title(\"First Container\")\n",
    "plt.subplot(122).bar(second_buckets.keys(), second_buckets.values())\n",
    "plt.title(\"Second Container\")"
   ]
  },
  {
   "cell_type": "code",
   "execution_count": 453,
   "metadata": {},
   "outputs": [
    {
     "name": "stderr",
     "output_type": "stream",
     "text": [
      "Progress: 100%|██████████| 1000/1000 [00:00<00:00, 2423.91it/s]\n"
     ]
    }
   ],
   "source": [
    "first_buckets = {i:0 for i in range(10)}\n",
    "second_buckets = {i:0 for i in range(10)}\n",
    "choices={\"First\":0, \"Second\":0}\n",
    "n_distributions = 1000\n",
    "distributions = [generate_capped_distribution(cap=0.17,norm_sum=1.25) for _ in range(n_distributions)]\n",
    "bests = []\n",
    "for distribution in tqdm(distributions,\"Progress\"):\n",
    "    best = max([(evaluate_combo(containers,combo,distribution),evaluate_combo_but_on_first(containers,combo,distribution),combo) for combo in indexed_combos],key = lambda x: x[1])\n",
    "    # print\n",
    "    bests.append((best[0],best[1],container_dict[best[-1][0]],container_dict[best[-1][1]],best[-1]))\n",
    "    if best[1]>=best[0]:\n",
    "        choices[\"First\"]+=1\n",
    "    else:\n",
    "        choices[\"Second\"]+=1\n",
    "    first_buckets[best[-1][0]] += 1\n",
    "    second_buckets[best[-1][1]] += 1"
   ]
  },
  {
   "cell_type": "code",
   "execution_count": 454,
   "metadata": {},
   "outputs": [
    {
     "data": {
      "text/plain": [
       "(np.float64(72451.80856503465),\n",
       " np.float64(39020.35270208579),\n",
       " np.float64(54080.581623893275))"
      ]
     },
     "execution_count": 454,
     "metadata": {},
     "output_type": "execute_result"
    }
   ],
   "source": [
    "max([best[1] for best in bests]), min([best[1] for best in bests]), sum(best[1] for best in bests)/len(bests)"
   ]
  },
  {
   "cell_type": "code",
   "execution_count": 455,
   "metadata": {},
   "outputs": [
    {
     "data": {
      "text/plain": [
       "{'First': 959, 'Second': 41}"
      ]
     },
     "execution_count": 455,
     "metadata": {},
     "output_type": "execute_result"
    }
   ],
   "source": [
    "choices"
   ]
  },
  {
   "cell_type": "code",
   "execution_count": 457,
   "metadata": {},
   "outputs": [
    {
     "data": {
      "text/plain": [
       "Text(0.5, 1.0, 'Second Container')"
      ]
     },
     "execution_count": 457,
     "metadata": {},
     "output_type": "execute_result"
    },
    {
     "data": {
      "image/png": "[encoded data removed]",
      "text/plain": [
       "<Figure size 1200x600 with 2 Axes>"
      ]
     },
     "metadata": {},
     "output_type": "display_data"
    }
   ],
   "source": [
    "plt.figure(figsize=(12, 6))\n",
    "plt.subplot(121).bar(first_buckets.keys(), first_buckets.values())\n",
    "plt.title(\"First Container\")\n",
    "plt.subplot(122).bar(second_buckets.keys(), second_buckets.values())\n",
    "plt.title(\"Second Container\")"
   ]
  },
  {
   "cell_type": "code",
   "execution_count": 459,
   "metadata": {},
   "outputs": [],
   "source": [
    "def generate_biased_distribution(delta_range=0.03,norm_sum=1):\n",
    "    base = np.full(10, 0.5*norm_sum/6)  # Start with base value for non-biased containers\n",
    "    bias_indices = [1, 4, 8, 9]\n",
    "\n",
    "    for i in bias_indices:\n",
    "        base[i] = 0.5*norm_sum/4\n",
    "\n",
    "    # Apply random delta in ±delta_range\n",
    "    deltas = np.random.uniform(-delta_range, delta_range, size=10)\n",
    "    perturbed = base + deltas\n",
    "\n",
    "    # Prevent negative values\n",
    "    perturbed = np.clip(perturbed, 0, None)\n",
    "\n",
    "    # Normalize to make the total sum to 1\n",
    "    normalized = perturbed / perturbed.sum()\n",
    "\n",
    "    return normalized*norm_sum\n"
   ]
  },
  {
   "cell_type": "code",
   "execution_count": 477,
   "metadata": {},
   "outputs": [
    {
     "data": {
      "text/plain": [
       "array([0.10277217, 0.17760779, 0.08140609, 0.12565929, 0.11265824,\n",
       "       0.13087772, 0.12703873, 0.07735055, 0.14673368, 0.16789573])"
      ]
     },
     "execution_count": 477,
     "metadata": {},
     "output_type": "execute_result"
    }
   ],
   "source": [
    "generate_biased_distribution(delta_range=0.05,norm_sum=1.25)"
   ]
  },
  {
   "cell_type": "code",
   "execution_count": 478,
   "metadata": {},
   "outputs": [
    {
     "data": {
      "text/plain": [
       "np.float64(1.2500000000000002)"
      ]
     },
     "execution_count": 478,
     "metadata": {},
     "output_type": "execute_result"
    }
   ],
   "source": [
    "sum(generate_biased_distribution(delta_range=0.05,norm_sum=1.25))"
   ]
  },
  {
   "cell_type": "code",
   "execution_count": 479,
   "metadata": {},
   "outputs": [
    {
     "name": "stderr",
     "output_type": "stream",
     "text": [
      "Progress:   0%|          | 0/1000 [00:00<?, ?it/s]"
     ]
    },
    {
     "name": "stderr",
     "output_type": "stream",
     "text": [
      "Progress: 100%|██████████| 1000/1000 [00:00<00:00, 2467.18it/s]\n"
     ]
    }
   ],
   "source": [
    "first_buckets = {i:0 for i in range(10)}\n",
    "second_buckets = {i:0 for i in range(10)}\n",
    "choices={\"First\":0, \"Second\":0}\n",
    "n_distributions = 1000\n",
    "distributions = [generate_biased_distribution(delta_range=0.04,norm_sum=1.1) for _ in range(n_distributions)]\n",
    "bests = []\n",
    "for distribution in tqdm(distributions,\"Progress\"):\n",
    "    best = max([(evaluate_combo(containers,combo,distribution),evaluate_combo_but_on_first(containers,combo,distribution),combo) for combo in indexed_combos],key = lambda x: x[1])\n",
    "    # print\n",
    "    bests.append((best[0],best[1],container_dict[best[-1][0]],container_dict[best[-1][1]],best[-1]))\n",
    "    if best[1]>=best[0]:\n",
    "        choices[\"First\"]+=1\n",
    "    else:\n",
    "        choices[\"Second\"]+=1\n",
    "    first_buckets[best[-1][0]] += 1\n",
    "    second_buckets[best[-1][1]] += 1"
   ]
  },
  {
   "cell_type": "code",
   "execution_count": 480,
   "metadata": {},
   "outputs": [
    {
     "data": {
      "text/plain": [
       "(np.float64(57540.99854114268),\n",
       " np.float64(38991.928815949555),\n",
       " np.float64(47184.20552607072))"
      ]
     },
     "execution_count": 480,
     "metadata": {},
     "output_type": "execute_result"
    }
   ],
   "source": [
    "max([best[1] for best in bests]), min([best[1] for best in bests]), sum(best[1] for best in bests)/len(bests)"
   ]
  },
  {
   "cell_type": "code",
   "execution_count": 481,
   "metadata": {},
   "outputs": [
    {
     "data": {
      "text/plain": [
       "{'First': 1000, 'Second': 0}"
      ]
     },
     "execution_count": 481,
     "metadata": {},
     "output_type": "execute_result"
    }
   ],
   "source": [
    "choices"
   ]
  },
  {
   "cell_type": "code",
   "execution_count": 482,
   "metadata": {},
   "outputs": [
    {
     "data": {
      "text/plain": [
       "Text(0.5, 1.0, 'Second Container')"
      ]
     },
     "execution_count": 482,
     "metadata": {},
     "output_type": "execute_result"
    },
    {
     "data": {
      "image/png": "[encoded data removed]",
      "text/plain": [
       "<Figure size 1200x600 with 2 Axes>"
      ]
     },
     "metadata": {},
     "output_type": "display_data"
    }
   ],
   "source": [
    "plt.figure(figsize=(12, 6))\n",
    "plt.subplot(121).bar(first_buckets.keys(), first_buckets.values())\n",
    "plt.title(\"First Container\")\n",
    "plt.subplot(122).bar(second_buckets.keys(), second_buckets.values())\n",
    "plt.title(\"Second Container\")"
   ]
  },
  {
   "cell_type": "code",
   "execution_count": null,
   "metadata": {},
   "outputs": [],
   "source": []
  },
  {
   "cell_type": "code",
   "execution_count": null,
   "metadata": {},
   "outputs": [],
   "source": []
  }
 ],
 "metadata": {
  "kernelspec": {
   "display_name": "env",
   "language": "python",
   "name": "python3"
  },
  "language_info": {
   "codemirror_mode": {
    "name": "ipython",
    "version": 3
   },
   "file_extension": ".py",
   "mimetype": "text/x-python",
   "name": "python",
   "nbconvert_exporter": "python",
   "pygments_lexer": "ipython3",
   "version": "3.10.11"
  }
 },
 "nbformat": 4,
 "nbformat_minor": 2
}
