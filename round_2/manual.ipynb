{
 "cells": [
  {
   "cell_type": "markdown",
   "metadata": {},
   "source": [
    "Profit for first box:\n",
    "\n",
    "(Multiplier * 10000)/(I + 100*P)\n",
    "\n",
    "Profit for second box:\n",
    "\n",
    "(Multiplier * 10000)/(I + 100*P) - 50,000\n",
    "\n",
    "(Multiplier- 5I)/500 > P for second box to be profitable"
   ]
  },
  {
   "cell_type": "code",
   "execution_count": 97,
   "metadata": {},
   "outputs": [],
   "source": [
    "import numpy as np\n",
    "from scipy.optimize import minimize\n",
    "import itertools\n",
    "from tqdm.auto import tqdm\n",
    "from random import randint"
   ]
  },
  {
   "cell_type": "code",
   "execution_count": null,
   "metadata": {},
   "outputs": [],
   "source": [
    "containers = np.array([(10,1),(80,6),(37,3),(17,1),(90,10),(31,2),(50,4),(20,2),(73,4),(89,8)])"
   ]
  },
  {
   "cell_type": "code",
   "execution_count": 4,
   "metadata": {},
   "outputs": [],
   "source": [
    "p_values = [(container[0]-5*container[1])/500 for container in containers]"
   ]
  },
  {
   "cell_type": "code",
   "execution_count": 5,
   "metadata": {},
   "outputs": [
    {
     "data": {
      "text/plain": [
       "[np.float64(0.01),\n",
       " np.float64(0.1),\n",
       " np.float64(0.044),\n",
       " np.float64(0.024),\n",
       " np.float64(0.08),\n",
       " np.float64(0.042),\n",
       " np.float64(0.06),\n",
       " np.float64(0.02),\n",
       " np.float64(0.106),\n",
       " np.float64(0.098)]"
      ]
     },
     "execution_count": 5,
     "metadata": {},
     "output_type": "execute_result"
    }
   ],
   "source": [
    "p_values"
   ]
  },
  {
   "cell_type": "code",
   "execution_count": 6,
   "metadata": {},
   "outputs": [],
   "source": [
    "# First box\n",
    "worst_case_scenarios = [(10000*container[0])/(container[1]+100) for container in containers]"
   ]
  },
  {
   "cell_type": "code",
   "execution_count": 7,
   "metadata": {},
   "outputs": [
    {
     "data": {
      "text/plain": [
       "[np.float64(990.0990099009902),\n",
       " np.float64(7547.169811320755),\n",
       " np.float64(3592.233009708738),\n",
       " np.float64(1683.1683168316831),\n",
       " np.float64(8181.818181818182),\n",
       " np.float64(3039.2156862745096),\n",
       " np.float64(4807.692307692308),\n",
       " np.float64(1960.7843137254902),\n",
       " np.float64(7019.2307692307695),\n",
       " np.float64(8240.74074074074)]"
      ]
     },
     "execution_count": 7,
     "metadata": {},
     "output_type": "execute_result"
    }
   ],
   "source": [
    "worst_case_scenarios"
   ]
  },
  {
   "cell_type": "code",
   "execution_count": 30,
   "metadata": {},
   "outputs": [],
   "source": [
    "\n",
    "def minimize_ev(multiplier_1,individuals_1, multiplier_2, individuals_2):\n",
    "    def function(x):\n",
    "        p1,p2 = x\n",
    "        return (multiplier_1 * 10000)/(individuals_1 + 100*p1) + (multiplier_2 * 10000)/(individuals_2 + 100*p2) - 50000\n",
    "\n",
    "    bounds = [(0,1),(0,1)]\n",
    "    constraints = [{\n",
    "    'type': 'ineq',\n",
    "    'fun': lambda x: 1 - x[0] - x[1]\n",
    "     }]\n",
    "    x0 = [1,1]\n",
    "    return minimize(fun=function,x0=x0,bounds=bounds,constraints=constraints)\n",
    "\n",
    "\n",
    "\n"
   ]
  },
  {
   "cell_type": "code",
   "execution_count": 31,
   "metadata": {},
   "outputs": [],
   "source": [
    "result = minimize_ev(10,1,80,6)"
   ]
  },
  {
   "cell_type": "code",
   "execution_count": 44,
   "metadata": {},
   "outputs": [],
   "source": [
    "container_combos = list(itertools.combinations(containers,2))"
   ]
  },
  {
   "cell_type": "code",
   "execution_count": 45,
   "metadata": {},
   "outputs": [
    {
     "data": {
      "text/plain": [
       "45"
      ]
     },
     "execution_count": 45,
     "metadata": {},
     "output_type": "execute_result"
    }
   ],
   "source": [
    "len(container_combos)"
   ]
  },
  {
   "cell_type": "code",
   "execution_count": 46,
   "metadata": {},
   "outputs": [],
   "source": [
    "for combo in container_combos:\n",
    "    if combo[0][0] == combo[1][0] and combo[0][1] == combo[1][1]:\n",
    "        print(combo)"
   ]
  },
  {
   "cell_type": "code",
   "execution_count": 47,
   "metadata": {},
   "outputs": [],
   "source": [
    "container_combos = [[combo[0][0],combo[0][1],combo[1][0],combo[1][1]] for combo in container_combos]"
   ]
  },
  {
   "cell_type": "code",
   "execution_count": 48,
   "metadata": {},
   "outputs": [
    {
     "data": {
      "text/plain": [
       "45"
      ]
     },
     "execution_count": 48,
     "metadata": {},
     "output_type": "execute_result"
    }
   ],
   "source": [
    "len(container_combos)"
   ]
  },
  {
   "cell_type": "code",
   "execution_count": 49,
   "metadata": {},
   "outputs": [
    {
     "name": "stderr",
     "output_type": "stream",
     "text": [
      "Progress: 100%|██████████| 45/45 [00:00<00:00, 218.12it/s]\n"
     ]
    }
   ],
   "source": [
    "minimums = []\n",
    "for combo in tqdm(container_combos,\"Progress\"):\n",
    "    result = minimize_ev(combo[0],combo[1],combo[2],combo[3])\n",
    "    minimums.append((result.fun, result.x[0], result.x[1], combo[0], combo[1], combo[2], combo[3]))\n"
   ]
  },
  {
   "cell_type": "code",
   "execution_count": 59,
   "metadata": {},
   "outputs": [
    {
     "data": {
      "text/plain": [
       "['90,10,89,8',\n",
       " '80,6,89,8',\n",
       " '80,6,90,10',\n",
       " '73,4,89,8',\n",
       " '90,10,73,4',\n",
       " '80,6,73,4',\n",
       " '50,4,89,8',\n",
       " '90,10,50,4',\n",
       " '80,6,50,4',\n",
       " '50,4,73,4']"
      ]
     },
     "execution_count": 59,
     "metadata": {},
     "output_type": "execute_result"
    }
   ],
   "source": [
    "[\",\".join([str(i) for i in e[3:]]) for e in sorted(minimums)[::-1][:10]]"
   ]
  },
  {
   "cell_type": "code",
   "execution_count": 75,
   "metadata": {},
   "outputs": [],
   "source": [
    "ratios = [container[0]/container[1] for container in containers]"
   ]
  },
  {
   "cell_type": "code",
   "execution_count": 76,
   "metadata": {},
   "outputs": [],
   "source": [
    "ratios = np.array([ratio/sum(ratios) for ratio in ratios])"
   ]
  },
  {
   "cell_type": "code",
   "execution_count": 77,
   "metadata": {},
   "outputs": [
    {
     "data": {
      "text/plain": [
       "array([0.07749435, 0.1033258 , 0.09557636, 0.13174039, 0.06974491,\n",
       "       0.12011624, 0.09686794, 0.07749435, 0.14142719, 0.08621246])"
      ]
     },
     "execution_count": 77,
     "metadata": {},
     "output_type": "execute_result"
    }
   ],
   "source": [
    "ratios"
   ]
  },
  {
   "cell_type": "code",
   "execution_count": 78,
   "metadata": {},
   "outputs": [
    {
     "data": {
      "text/plain": [
       "np.float64(0.9999999999999999)"
      ]
     },
     "execution_count": 78,
     "metadata": {},
     "output_type": "execute_result"
    }
   ],
   "source": [
    "sum(ratios)"
   ]
  },
  {
   "cell_type": "code",
   "execution_count": 66,
   "metadata": {},
   "outputs": [
    {
     "data": {
      "text/plain": [
       "[[np.int64(10), np.int64(1), np.int64(80), np.int64(6)],\n",
       " [np.int64(10), np.int64(1), np.int64(37), np.int64(3)],\n",
       " [np.int64(10), np.int64(1), np.int64(17), np.int64(1)],\n",
       " [np.int64(10), np.int64(1), np.int64(90), np.int64(10)],\n",
       " [np.int64(10), np.int64(1), np.int64(31), np.int64(2)]]"
      ]
     },
     "execution_count": 66,
     "metadata": {},
     "output_type": "execute_result"
    }
   ],
   "source": [
    "container_combos[:5]"
   ]
  },
  {
   "cell_type": "code",
   "execution_count": 71,
   "metadata": {},
   "outputs": [],
   "source": [
    "indexed_combos = list(itertools.combinations([*range(10)],2))"
   ]
  },
  {
   "cell_type": "code",
   "execution_count": 72,
   "metadata": {},
   "outputs": [
    {
     "data": {
      "text/plain": [
       "45"
      ]
     },
     "execution_count": 72,
     "metadata": {},
     "output_type": "execute_result"
    }
   ],
   "source": [
    "len(indexed_combos)"
   ]
  },
  {
   "cell_type": "code",
   "execution_count": 83,
   "metadata": {},
   "outputs": [],
   "source": [
    "indexed_combos+=[(j,i) for i,j in indexed_combos]"
   ]
  },
  {
   "cell_type": "code",
   "execution_count": 84,
   "metadata": {},
   "outputs": [
    {
     "data": {
      "text/plain": [
       "90"
      ]
     },
     "execution_count": 84,
     "metadata": {},
     "output_type": "execute_result"
    }
   ],
   "source": [
    "len(indexed_combos)"
   ]
  },
  {
   "cell_type": "code",
   "execution_count": 109,
   "metadata": {},
   "outputs": [],
   "source": [
    "def evaluate_combo(containers, combo,ratios):\n",
    "    multiplier_1 = containers[combo[0]][0]\n",
    "    individuals_1 = containers[combo[0]][1]\n",
    "    multiplier_2 = containers[combo[1]][0]\n",
    "    individuals_2 = containers[combo[1]][1]\n",
    "    p1 = ratios[combo[0]]\n",
    "    p2 = ratios[combo[1]]\n",
    "    return (10000*multiplier_1)/(individuals_1 + 100*p1) + (10000*multiplier_2)/(individuals_2 + 100*p2) - 50000\n",
    "def maximize_with_prior(containers,ratios,power,combos,top):\n",
    "   raised_prior = ratios**power\n",
    "   values = []\n",
    "   for combo in combos:\n",
    "         value = evaluate_combo(containers,combo,raised_prior)\n",
    "         values.append((float(value),containers[combo[0]],containers[combo[1]],combo))\n",
    "#    print(values)\n",
    "   return sorted(values,key=lambda x: x[0],reverse=True)[:top]"
   ]
  },
  {
   "cell_type": "code",
   "execution_count": 111,
   "metadata": {},
   "outputs": [
    {
     "data": {
      "text/plain": [
       "[(56566.65857332667, array([90, 10]), array([89,  8]), (4, 9)),\n",
       " (56566.65857332667, array([89,  8]), array([90, 10]), (9, 4)),\n",
       " (52527.77556567686, array([80,  6]), array([89,  8]), (1, 9)),\n",
       " (52527.77556567686, array([89,  8]), array([80,  6]), (9, 1)),\n",
       " (52002.58551051645, array([80,  6]), array([90, 10]), (1, 4)),\n",
       " (52002.58551051645, array([90, 10]), array([80,  6]), (4, 1)),\n",
       " (43782.451686636225, array([73,  4]), array([89,  8]), (8, 9)),\n",
       " (43782.451686636225, array([89,  8]), array([73,  4]), (9, 8)),\n",
       " (43257.26163147582, array([90, 10]), array([73,  4]), (4, 8)),\n",
       " (43257.26163147582, array([73,  4]), array([90, 10]), (8, 4))]"
      ]
     },
     "execution_count": 111,
     "metadata": {},
     "output_type": "execute_result"
    }
   ],
   "source": [
    "maximize_with_prior(containers,ratios,1,indexed_combos,10)"
   ]
  },
  {
   "cell_type": "code",
   "execution_count": 112,
   "metadata": {},
   "outputs": [
    {
     "data": {
      "text/plain": [
       "[(184855.565779821, array([80,  6]), array([73,  4]), (1, 8)),\n",
       " (184855.565779821, array([73,  4]), array([80,  6]), (8, 1)),\n",
       " (173456.0302613695, array([73,  4]), array([89,  8]), (8, 9)),\n",
       " (173456.0302613695, array([89,  8]), array([73,  4]), (9, 8)),\n",
       " (172911.92568018922, array([50,  4]), array([73,  4]), (6, 8)),\n",
       " (172911.92568018922, array([73,  4]), array([50,  4]), (8, 6)),\n",
       " (166208.23067840416, array([37,  3]), array([73,  4]), (2, 8)),\n",
       " (166208.23067840416, array([73,  4]), array([37,  3]), (8, 2)),\n",
       " (164984.95172770994, array([80,  6]), array([89,  8]), (1, 9)),\n",
       " (164984.95172770994, array([89,  8]), array([80,  6]), (9, 1))]"
      ]
     },
     "execution_count": 112,
     "metadata": {},
     "output_type": "execute_result"
    }
   ],
   "source": [
    "maximize_with_prior(containers,ratios,2,indexed_combos,10)"
   ]
  },
  {
   "cell_type": "code",
   "execution_count": 116,
   "metadata": {},
   "outputs": [
    {
     "data": {
      "text/plain": [
       "array([0.07749435, 0.1033258 , 0.09557636, 0.13174039, 0.06974491,\n",
       "       0.12011624, 0.09686794, 0.07749435, 0.14142719, 0.08621246])"
      ]
     },
     "execution_count": 116,
     "metadata": {},
     "output_type": "execute_result"
    }
   ],
   "source": [
    "ratios**1"
   ]
  },
  {
   "cell_type": "code",
   "execution_count": 113,
   "metadata": {},
   "outputs": [
    {
     "data": {
      "text/plain": [
       "[(56566.65857332667, array([90, 10]), array([89,  8]), (4, 9)),\n",
       " (184855.565779821, array([80,  6]), array([73,  4]), (1, 8)),\n",
       " (263086.19705841073, array([31,  2]), array([73,  4]), (5, 8)),\n",
       " (295721.85937141906, array([17,  1]), array([73,  4]), (3, 8)),\n",
       " (301570.2878827861, array([17,  1]), array([73,  4]), (3, 8)),\n",
       " (302374.67317420046, array([17,  1]), array([73,  4]), (3, 8)),\n",
       " (302483.12961209484, array([17,  1]), array([73,  4]), (3, 8)),\n",
       " (302497.72736340784, array([17,  1]), array([73,  4]), (3, 8)),\n",
       " (302499.69352634053, array([17,  1]), array([73,  4]), (3, 8)),\n",
       " (302499.95862459263, array([17,  1]), array([73,  4]), (3, 8))]"
      ]
     },
     "execution_count": 113,
     "metadata": {},
     "output_type": "execute_result"
    }
   ],
   "source": [
    "[maximize_with_prior(containers,ratios,i,indexed_combos,10)[0] for i in range(1,11)]"
   ]
  },
  {
   "cell_type": "code",
   "execution_count": null,
   "metadata": {},
   "outputs": [],
   "source": []
  }
 ],
 "metadata": {
  "kernelspec": {
   "display_name": "env",
   "language": "python",
   "name": "python3"
  },
  "language_info": {
   "codemirror_mode": {
    "name": "ipython",
    "version": 3
   },
   "file_extension": ".py",
   "mimetype": "text/x-python",
   "name": "python",
   "nbconvert_exporter": "python",
   "pygments_lexer": "ipython3",
   "version": "3.10.11"
  }
 },
 "nbformat": 4,
 "nbformat_minor": 2
}
